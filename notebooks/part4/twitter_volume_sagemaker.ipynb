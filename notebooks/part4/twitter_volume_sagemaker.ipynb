{
 "cells": [
  {
   "cell_type": "markdown",
   "metadata": {},
   "source": [
    "# Hyperparameter Tuning with SageMaker Automatic Model Tuner\n",
    "\n",
    "In [part3](../part3/twitter_volume_forecast.ipynb) we have trained a DeepAR model. Apart from prediction_length, time freqency and number of epochs we did not specify any hyperparameters. DeepAR has many hyperparameters and in this section we will use SageMaker automatic model tuner to find the right set for our model. Here is a short list of some hyperparameter and their default value:\n",
    "\n",
    "| Hyperparameters          | Value                     |\n",
    "|--------------------------|---------------------------|\n",
    "| epochs                   | 100                       |\n",
    "| context_length           | prediction_length         | \n",
    "| number training examples | 8606                      |\n",
    "| batch size               | 32                        |\n",
    "| learning rate            | $1e-3$                    |\n",
    "| LSTM layers              | 2                         |\n",
    "| LSTM nodes               | 40                        |\n",
    "| likelihood               | StudentTOutput()                  |\n",
    "\n",
    "Refer to the  [documentation](https://gluon-ts.mxnet.io/api/gluonts/gluonts.model.deepar.html) for a full description of the available parameters.\n",
    "\n",
    "For example, you will elect the Gaussian likelihood model because you have real-valued data. Other likelihood models can also readily be used as long as samples from the distribution can cheaply be obtained and the log-likelihood and its gradients with respect to the parameters can be evaluated. For example:\n",
    "\n",
    "- **Gaussian:** Use for real-valued data.\n",
    "- **Beta:** Use for real-valued targets between 0 and 1 inclusive.\n",
    "- **Negative-binomial:** Use for count data (non-negative integers).\n",
    "- **Student-T:** An alternative for real-valued data that works well for bursty data.\n",
    "- **Deterministic-L1:** A loss function that does not estimate uncertainty and only learns a point forecast.\n",
    "\n",
    "First we have to upload our training dataset to Amazon S3. "
   ]
  },
  {
   "cell_type": "code",
   "execution_count": 1,
   "metadata": {},
   "outputs": [
    {
     "name": "stderr",
     "output_type": "stream",
     "text": [
      "INFO:root:Using GPU\n",
      "INFO:root:Using GPU\n"
     ]
    }
   ],
   "source": [
    "import pandas as pd\n",
    "import gluonts\n",
    "import numpy as np\n",
    "import matplotlib.pyplot as plt\n",
    "import pathlib\n",
    "import json\n",
    "import boto3\n",
    "import s3fs\n",
    "import csv\n",
    "import sagemaker"
   ]
  },
  {
   "cell_type": "code",
   "execution_count": 2,
   "metadata": {},
   "outputs": [],
   "source": [
    "sagemaker_session = sagemaker.Session()\n",
    "s3_bucket = sagemaker_session.default_bucket()\n",
    "s3_train_data_path = \"s3://{}/gluonts/train\".format(s3_bucket)\n",
    "s3_test_data_path = \"s3://{}/gluonts/test\".format(s3_bucket)"
   ]
  },
  {
   "cell_type": "markdown",
   "metadata": {},
   "source": [
    "Write train and test data to a csv file:"
   ]
  },
  {
   "cell_type": "code",
   "execution_count": 4,
   "metadata": {},
   "outputs": [],
   "source": [
    "url = \"https://raw.githubusercontent.com/numenta/NAB/master/data/realTweets/Twitter_volume_AMZN.csv\"\n",
    "df = pd.read_csv(filepath_or_buffer=url, header=0, index_col=0)\n",
    "\n",
    "train = df[: \"2015-04-05 00:00:00\"]\n",
    "train.to_csv(\"train.csv\")\n",
    "\n",
    "test = df[: \"2015-04-15 00:00:00\"]\n",
    "test.to_csv(\"test.csv\")"
   ]
  },
  {
   "cell_type": "markdown",
   "metadata": {},
   "source": [
    "The following function will upload the training dataset to the S3 bucket"
   ]
  },
  {
   "cell_type": "code",
   "execution_count": 5,
   "metadata": {},
   "outputs": [],
   "source": [
    "s3 = boto3.resource('s3')\n",
    "def copy_to_s3(local_file, s3_path, override=False):\n",
    "    assert s3_path.startswith('s3://')\n",
    "    split = s3_path.split('/')\n",
    "    bucket = split[2]\n",
    "    path = '/'.join(split[3:])\n",
    "    buk = s3.Bucket(bucket)\n",
    "    \n",
    "    if len(list(buk.objects.filter(Prefix=path))) > 0:\n",
    "        if not override:\n",
    "            print('File s3://{}/{} already exists.\\nSet override to upload anyway.\\n'.format(s3_bucket, s3_path))\n",
    "            return\n",
    "        else:\n",
    "            print('Overwriting existing file')\n",
    "    with open(local_file, 'rb') as data:\n",
    "        print('Uploading file to {}'.format(s3_path))\n",
    "        buk.put_object(Key=path, Body=data)"
   ]
  },
  {
   "cell_type": "markdown",
   "metadata": {},
   "source": [
    "Upload to S3"
   ]
  },
  {
   "cell_type": "code",
   "execution_count": null,
   "metadata": {},
   "outputs": [],
   "source": [
    "%time\n",
    "copy_to_s3(\"train.csv\", s3_train_data_path + \"/train.csv\")\n",
    "copy_to_s3(\"test.csv\", s3_test_data_path + \"/test.csv\")"
   ]
  },
  {
   "cell_type": "markdown",
   "metadata": {},
   "source": [
    "Let's have a look to what we just wrote to S3."
   ]
  },
  {
   "cell_type": "code",
   "execution_count": 32,
   "metadata": {},
   "outputs": [
    {
     "name": "stdout",
     "output_type": "stream",
     "text": [
      "timestamp,value\n",
      "...\n"
     ]
    }
   ],
   "source": [
    "s3filesystem = s3fs.S3FileSystem()\n",
    "with s3filesystem.open(s3_train_data_path + \"/train.csv\", 'rb') as fp:\n",
    "    print(fp.readline().decode(\"utf-8\")[:100] + \"...\")"
   ]
  },
  {
   "cell_type": "markdown",
   "metadata": {},
   "source": [
    "Next we define the MXNet esimtator. But first we get our SageMaker execution role."
   ]
  },
  {
   "cell_type": "code",
   "execution_count": 33,
   "metadata": {},
   "outputs": [],
   "source": [
    "import sagemaker\n",
    "from sagemaker.mxnet import MXNet\n",
    "\n",
    "sagemaker_session = sagemaker.Session()\n",
    "role = sagemaker.get_execution_role()"
   ]
  },
  {
   "cell_type": "markdown",
   "metadata": {},
   "source": [
    "MXNet estimator"
   ]
  },
  {
   "cell_type": "code",
   "execution_count": 47,
   "metadata": {},
   "outputs": [],
   "source": [
    "mxnet_estimator = MXNet(entry_point='train.py',\n",
    "                        source_dir='entry_point',\n",
    "                        role=role,\n",
    "                        train_instance_type='ml.m5.xlarge',\n",
    "                        train_instance_count=1,\n",
    "                        framework_version='1.4.0', py_version='py3',\n",
    "                        hyperparameters={\n",
    "                         'epochs': 1, \n",
    "                         'prediction_length':12,\n",
    "                         'num_layers':2, \n",
    "                         'dropout_rate': 0.2,\n",
    "                         })"
   ]
  },
  {
   "cell_type": "markdown",
   "metadata": {},
   "source": [
    "Let's start the training job:"
   ]
  },
  {
   "cell_type": "code",
   "execution_count": null,
   "metadata": {},
   "outputs": [],
   "source": [
    "mxnet_estimator.fit({\"train\": s3_train_data_path, \"test\": s3_test_data_path})"
   ]
  },
  {
   "cell_type": "markdown",
   "metadata": {},
   "source": [
    "Let's deploy the model:"
   ]
  },
  {
   "cell_type": "code",
   "execution_count": null,
   "metadata": {},
   "outputs": [],
   "source": [
    "endpoint = mxnet_estimator.deploy(instance_type=\"ml.m5.xlarge\", initial_instance_count=1)"
   ]
  },
  {
   "cell_type": "markdown",
   "metadata": {},
   "source": [
    "Send some testdata to the endpoint:"
   ]
  },
  {
   "cell_type": "code",
   "execution_count": null,
   "metadata": {},
   "outputs": [],
   "source": [
    "input_data = {'value': test.value.tolist(), 'timestamp': test.index.tolist() }\n",
    "result = endpoint.predict(input_data)"
   ]
  },
  {
   "cell_type": "markdown",
   "metadata": {},
   "source": [
    "The endpoint will return aggregated metrics:"
   ]
  },
  {
   "cell_type": "code",
   "execution_count": 46,
   "metadata": {},
   "outputs": [
    {
     "data": {
      "text/plain": [
       "{'MSE': 244.63037109375,\n",
       " 'abs_error': 142.8305206298828,\n",
       " 'abs_target_sum': 665.0,\n",
       " 'abs_target_mean': 55.416666666666664,\n",
       " 'seasonal_error': 12.780532802007231,\n",
       " 'MASE': 0.9313025967081927,\n",
       " 'sMAPE': 0.21119329684305851,\n",
       " 'MSIS': 9.905241087165003,\n",
       " 'QuantileLoss[0.1]': 60.613216400146484,\n",
       " 'Coverage[0.1]': 0.16666666666666666,\n",
       " 'QuantileLoss[0.2]': 86.71649475097658,\n",
       " 'Coverage[0.2]': 0.4166666666666667,\n",
       " 'QuantileLoss[0.3]': 115.22715072631836,\n",
       " 'Coverage[0.3]': 0.4166666666666667,\n",
       " 'QuantileLoss[0.4]': 134.08475952148436,\n",
       " 'Coverage[0.4]': 0.5833333333333334,\n",
       " 'QuantileLoss[0.5]': 142.8305206298828,\n",
       " 'Coverage[0.5]': 0.5833333333333334,\n",
       " 'QuantileLoss[0.6]': 146.86789093017578,\n",
       " 'Coverage[0.6]': 0.75,\n",
       " 'QuantileLoss[0.7]': 142.40164947509766,\n",
       " 'Coverage[0.7]': 0.75,\n",
       " 'QuantileLoss[0.8]': 115.67144622802732,\n",
       " 'Coverage[0.8]': 0.75,\n",
       " 'QuantileLoss[0.9]': 76.71700744628906,\n",
       " 'Coverage[0.9]': 0.9166666666666666,\n",
       " 'RMSE': 15.640664023427842,\n",
       " 'NRMSE': 0.2822375462874197,\n",
       " 'ND': 0.21478273778929746,\n",
       " 'wQuantileLoss[0.1]': 0.09114769383480674,\n",
       " 'wQuantileLoss[0.2]': 0.13040074398643095,\n",
       " 'wQuantileLoss[0.3]': 0.17327391086664415,\n",
       " 'wQuantileLoss[0.4]': 0.2016312173255404,\n",
       " 'wQuantileLoss[0.5]': 0.21478273778929746,\n",
       " 'wQuantileLoss[0.6]': 0.2208539713235726,\n",
       " 'wQuantileLoss[0.7]': 0.21413781875954535,\n",
       " 'wQuantileLoss[0.8]': 0.1739420244030486,\n",
       " 'wQuantileLoss[0.9]': 0.11536392097186325,\n",
       " 'mean_wQuantileLoss': 0.1706148932511944,\n",
       " 'MAE_Coverage': 0.10370370370370371}"
      ]
     },
     "execution_count": 46,
     "metadata": {},
     "output_type": "execute_result"
    }
   ],
   "source": [
    "result"
   ]
  },
  {
   "cell_type": "markdown",
   "metadata": {},
   "source": [
    "Now that we are able to run our DeepAR model with SageMaker, we can start tuning its hyperparameter. In the following section we define the `HyperparameterTuner`, which takes the following hyperparameters:\n",
    "- `epochs`: how many epochs shall the training be. If this value is too large we may overfit out training data, which means the model achieves good performance on the trasining dataset but bad performance on the validation dataset.\n",
    "- `prediction_length`: how many time units shall the model predict\n",
    "- `num_layers`: number of RNN layers\n",
    "- `dropout_rate`: dropouts help to regularize the training because they randomly switch off neurons. \n",
    "\n",
    "You can find more information about DeepAR parameters [here](https://gluon-ts.mxnet.io/api/gluonts/gluonts.model.deepar.html) Next we have to indicate the metric we want to optimize on. We have to make sure that our training job prints those metrics. [train.py](entry_point/train.py) prints the MSE value of evluated test dataset. These printouts will appear in Cloudwatch and the automatic model tuner will then automatically retrieve those outputs by using the regular expression indicated in `Regex`. \n",
    "Next we indicate the `max_jobs` and `max_parallel_jobs`. Here we will run 10 jobs in total and in each step we will start 5 parallel jobs."
   ]
  },
  {
   "cell_type": "code",
   "execution_count": 62,
   "metadata": {},
   "outputs": [],
   "source": [
    "from sagemaker.tuner import HyperparameterTuner, ContinuousParameter, IntegerParameter \n",
    "\n",
    "tuner = HyperparameterTuner(estimator=mxnet_estimator,  \n",
    "                               objective_metric_name='loss',\n",
    "                               hyperparameter_ranges={\n",
    "                                    'epochs': IntegerParameter(5,20),\n",
    "                                    'prediction_length':IntegerParameter(5,20),\n",
    "                                    'num_layers': IntegerParameter(1, 5),\n",
    "                                    'dropout_rate': ContinuousParameter(0, 0.5) },\n",
    "                               metric_definitions=[{'Name': 'loss', 'Regex': \"MSE: ([0-9\\\\.]+)\"}],\n",
    "                               max_jobs=10,\n",
    "                               max_parallel_jobs=5,\n",
    "                               objective_type='Minimize')"
   ]
  },
  {
   "cell_type": "markdown",
   "metadata": {},
   "source": [
    "Start the model tuner:"
   ]
  },
  {
   "cell_type": "code",
   "execution_count": 63,
   "metadata": {},
   "outputs": [
    {
     "name": "stderr",
     "output_type": "stream",
     "text": [
      "INFO:sagemaker:Creating hyperparameter tuning job with name: sagemaker-mxnet-191127-0345\n"
     ]
    }
   ],
   "source": [
    "tuner.fit({'train': s3_train_data_path, \"test\": s3_test_data_path})"
   ]
  },
  {
   "cell_type": "markdown",
   "metadata": {},
   "source": [
    "Now you can go to the SageMaker console and you will see your hyperparameter tuning jobs. The automatic model tuner will automatically evaluate which hyperparameters to choose next and it uses per default Bayesian optimziation.\n",
    "\n",
    "We can track the status of the hyperparameter tuning jobs by running the following code. Get the name of your job from the sagemaker console."
   ]
  },
  {
   "cell_type": "code",
   "execution_count": 75,
   "metadata": {},
   "outputs": [],
   "source": [
    "tuning_job_name = 'NAME OF YOUR HYPERPARAMETER TUNING JOB'"
   ]
  },
  {
   "cell_type": "code",
   "execution_count": 87,
   "metadata": {},
   "outputs": [
    {
     "name": "stdout",
     "output_type": "stream",
     "text": [
      "10 training jobs have completed\n"
     ]
    }
   ],
   "source": [
    "sage_client = boto3.Session().client('sagemaker')\n",
    "\n",
    "# run this cell to check current status of hyperparameter tuning job\n",
    "tuning_job_result = sage_client.describe_hyper_parameter_tuning_job(HyperParameterTuningJobName=tuning_job_name)\n",
    "\n",
    "status = tuning_job_result['HyperParameterTuningJobStatus']\n",
    "if status != 'Completed':\n",
    "    print('Reminder: the tuning job has not been completed.')\n",
    "    \n",
    "job_count = tuning_job_result['TrainingJobStatusCounters']['Completed']\n",
    "print(\"%d training jobs have completed\" % job_count)\n",
    "    \n",
    "is_minimize = (tuning_job_result['HyperParameterTuningJobConfig']['HyperParameterTuningJobObjective']['Type'] != 'Maximize')\n",
    "objective_name = tuning_job_result['HyperParameterTuningJobConfig']['HyperParameterTuningJobObjective']['MetricName']"
   ]
  },
  {
   "cell_type": "markdown",
   "metadata": {},
   "source": [
    "Convert results into Pandas frame"
   ]
  },
  {
   "cell_type": "code",
   "execution_count": 88,
   "metadata": {},
   "outputs": [
    {
     "name": "stdout",
     "output_type": "stream",
     "text": [
      "Number of training jobs with valid objective: 10\n",
      "{'lowest': 117.87075805664062, 'highest': 306.5559997558594}\n"
     ]
    },
    {
     "data": {
      "text/html": [
       "<div>\n",
       "<style scoped>\n",
       "    .dataframe tbody tr th:only-of-type {\n",
       "        vertical-align: middle;\n",
       "    }\n",
       "\n",
       "    .dataframe tbody tr th {\n",
       "        vertical-align: top;\n",
       "    }\n",
       "\n",
       "    .dataframe thead th {\n",
       "        text-align: right;\n",
       "    }\n",
       "</style>\n",
       "<table border=\"1\" class=\"dataframe\">\n",
       "  <thead>\n",
       "    <tr style=\"text-align: right;\">\n",
       "      <th></th>\n",
       "      <th>dropout_rate</th>\n",
       "      <th>epochs</th>\n",
       "      <th>num_layers</th>\n",
       "      <th>prediction_length</th>\n",
       "      <th>TrainingJobName</th>\n",
       "      <th>TrainingJobStatus</th>\n",
       "      <th>FinalObjectiveValue</th>\n",
       "      <th>TrainingStartTime</th>\n",
       "      <th>TrainingEndTime</th>\n",
       "      <th>TrainingElapsedTimeSeconds</th>\n",
       "    </tr>\n",
       "  </thead>\n",
       "  <tbody>\n",
       "    <tr>\n",
       "      <th>5</th>\n",
       "      <td>0.482745</td>\n",
       "      <td>13.0</td>\n",
       "      <td>2.0</td>\n",
       "      <td>11.0</td>\n",
       "      <td>sagemaker-mxnet-191127-0345-005-6d77643d</td>\n",
       "      <td>Completed</td>\n",
       "      <td>117.870758</td>\n",
       "      <td>2019-11-27 03:47:35+00:00</td>\n",
       "      <td>2019-11-27 03:49:36+00:00</td>\n",
       "      <td>121.0</td>\n",
       "    </tr>\n",
       "    <tr>\n",
       "      <th>3</th>\n",
       "      <td>0.477103</td>\n",
       "      <td>16.0</td>\n",
       "      <td>1.0</td>\n",
       "      <td>7.0</td>\n",
       "      <td>sagemaker-mxnet-191127-0345-007-14adcf9b</td>\n",
       "      <td>Completed</td>\n",
       "      <td>123.828262</td>\n",
       "      <td>2019-11-27 03:51:23+00:00</td>\n",
       "      <td>2019-11-27 03:53:13+00:00</td>\n",
       "      <td>110.0</td>\n",
       "    </tr>\n",
       "    <tr>\n",
       "      <th>9</th>\n",
       "      <td>0.071561</td>\n",
       "      <td>18.0</td>\n",
       "      <td>2.0</td>\n",
       "      <td>7.0</td>\n",
       "      <td>sagemaker-mxnet-191127-0345-001-938b14a2</td>\n",
       "      <td>Completed</td>\n",
       "      <td>140.021072</td>\n",
       "      <td>2019-11-27 03:47:30+00:00</td>\n",
       "      <td>2019-11-27 03:49:53+00:00</td>\n",
       "      <td>143.0</td>\n",
       "    </tr>\n",
       "    <tr>\n",
       "      <th>0</th>\n",
       "      <td>0.474947</td>\n",
       "      <td>5.0</td>\n",
       "      <td>1.0</td>\n",
       "      <td>9.0</td>\n",
       "      <td>sagemaker-mxnet-191127-0345-010-e9e04cd1</td>\n",
       "      <td>Completed</td>\n",
       "      <td>146.069031</td>\n",
       "      <td>2019-11-27 03:52:39+00:00</td>\n",
       "      <td>2019-11-27 03:53:51+00:00</td>\n",
       "      <td>72.0</td>\n",
       "    </tr>\n",
       "    <tr>\n",
       "      <th>1</th>\n",
       "      <td>0.367037</td>\n",
       "      <td>6.0</td>\n",
       "      <td>2.0</td>\n",
       "      <td>5.0</td>\n",
       "      <td>sagemaker-mxnet-191127-0345-009-049adfb0</td>\n",
       "      <td>Completed</td>\n",
       "      <td>163.936172</td>\n",
       "      <td>2019-11-27 03:52:14+00:00</td>\n",
       "      <td>2019-11-27 03:53:29+00:00</td>\n",
       "      <td>75.0</td>\n",
       "    </tr>\n",
       "    <tr>\n",
       "      <th>2</th>\n",
       "      <td>0.450676</td>\n",
       "      <td>18.0</td>\n",
       "      <td>5.0</td>\n",
       "      <td>13.0</td>\n",
       "      <td>sagemaker-mxnet-191127-0345-008-47c9bc32</td>\n",
       "      <td>Completed</td>\n",
       "      <td>254.050674</td>\n",
       "      <td>2019-11-27 03:51:52+00:00</td>\n",
       "      <td>2019-11-27 03:55:15+00:00</td>\n",
       "      <td>203.0</td>\n",
       "    </tr>\n",
       "    <tr>\n",
       "      <th>6</th>\n",
       "      <td>0.191261</td>\n",
       "      <td>11.0</td>\n",
       "      <td>2.0</td>\n",
       "      <td>17.0</td>\n",
       "      <td>sagemaker-mxnet-191127-0345-004-57acaf07</td>\n",
       "      <td>Completed</td>\n",
       "      <td>273.904755</td>\n",
       "      <td>2019-11-27 03:47:35+00:00</td>\n",
       "      <td>2019-11-27 03:49:28+00:00</td>\n",
       "      <td>113.0</td>\n",
       "    </tr>\n",
       "    <tr>\n",
       "      <th>7</th>\n",
       "      <td>0.393358</td>\n",
       "      <td>17.0</td>\n",
       "      <td>3.0</td>\n",
       "      <td>16.0</td>\n",
       "      <td>sagemaker-mxnet-191127-0345-003-6131b763</td>\n",
       "      <td>Completed</td>\n",
       "      <td>302.508667</td>\n",
       "      <td>2019-11-27 03:47:26+00:00</td>\n",
       "      <td>2019-11-27 03:50:17+00:00</td>\n",
       "      <td>171.0</td>\n",
       "    </tr>\n",
       "    <tr>\n",
       "      <th>4</th>\n",
       "      <td>0.494499</td>\n",
       "      <td>15.0</td>\n",
       "      <td>3.0</td>\n",
       "      <td>15.0</td>\n",
       "      <td>sagemaker-mxnet-191127-0345-006-47297f38</td>\n",
       "      <td>Completed</td>\n",
       "      <td>304.692841</td>\n",
       "      <td>2019-11-27 03:51:24+00:00</td>\n",
       "      <td>2019-11-27 03:55:23+00:00</td>\n",
       "      <td>239.0</td>\n",
       "    </tr>\n",
       "    <tr>\n",
       "      <th>8</th>\n",
       "      <td>0.154696</td>\n",
       "      <td>16.0</td>\n",
       "      <td>5.0</td>\n",
       "      <td>10.0</td>\n",
       "      <td>sagemaker-mxnet-191127-0345-002-6e26a47f</td>\n",
       "      <td>Completed</td>\n",
       "      <td>306.556000</td>\n",
       "      <td>2019-11-27 03:47:36+00:00</td>\n",
       "      <td>2019-11-27 03:50:43+00:00</td>\n",
       "      <td>187.0</td>\n",
       "    </tr>\n",
       "  </tbody>\n",
       "</table>\n",
       "</div>"
      ],
      "text/plain": [
       "   dropout_rate  epochs  num_layers  prediction_length  \\\n",
       "5  0.482745      13.0    2.0         11.0                \n",
       "3  0.477103      16.0    1.0         7.0                 \n",
       "9  0.071561      18.0    2.0         7.0                 \n",
       "0  0.474947      5.0     1.0         9.0                 \n",
       "1  0.367037      6.0     2.0         5.0                 \n",
       "2  0.450676      18.0    5.0         13.0                \n",
       "6  0.191261      11.0    2.0         17.0                \n",
       "7  0.393358      17.0    3.0         16.0                \n",
       "4  0.494499      15.0    3.0         15.0                \n",
       "8  0.154696      16.0    5.0         10.0                \n",
       "\n",
       "                            TrainingJobName TrainingJobStatus  \\\n",
       "5  sagemaker-mxnet-191127-0345-005-6d77643d  Completed          \n",
       "3  sagemaker-mxnet-191127-0345-007-14adcf9b  Completed          \n",
       "9  sagemaker-mxnet-191127-0345-001-938b14a2  Completed          \n",
       "0  sagemaker-mxnet-191127-0345-010-e9e04cd1  Completed          \n",
       "1  sagemaker-mxnet-191127-0345-009-049adfb0  Completed          \n",
       "2  sagemaker-mxnet-191127-0345-008-47c9bc32  Completed          \n",
       "6  sagemaker-mxnet-191127-0345-004-57acaf07  Completed          \n",
       "7  sagemaker-mxnet-191127-0345-003-6131b763  Completed          \n",
       "4  sagemaker-mxnet-191127-0345-006-47297f38  Completed          \n",
       "8  sagemaker-mxnet-191127-0345-002-6e26a47f  Completed          \n",
       "\n",
       "   FinalObjectiveValue         TrainingStartTime           TrainingEndTime  \\\n",
       "5  117.870758          2019-11-27 03:47:35+00:00 2019-11-27 03:49:36+00:00   \n",
       "3  123.828262          2019-11-27 03:51:23+00:00 2019-11-27 03:53:13+00:00   \n",
       "9  140.021072          2019-11-27 03:47:30+00:00 2019-11-27 03:49:53+00:00   \n",
       "0  146.069031          2019-11-27 03:52:39+00:00 2019-11-27 03:53:51+00:00   \n",
       "1  163.936172          2019-11-27 03:52:14+00:00 2019-11-27 03:53:29+00:00   \n",
       "2  254.050674          2019-11-27 03:51:52+00:00 2019-11-27 03:55:15+00:00   \n",
       "6  273.904755          2019-11-27 03:47:35+00:00 2019-11-27 03:49:28+00:00   \n",
       "7  302.508667          2019-11-27 03:47:26+00:00 2019-11-27 03:50:17+00:00   \n",
       "4  304.692841          2019-11-27 03:51:24+00:00 2019-11-27 03:55:23+00:00   \n",
       "8  306.556000          2019-11-27 03:47:36+00:00 2019-11-27 03:50:43+00:00   \n",
       "\n",
       "   TrainingElapsedTimeSeconds  \n",
       "5  121.0                       \n",
       "3  110.0                       \n",
       "9  143.0                       \n",
       "0  72.0                        \n",
       "1  75.0                        \n",
       "2  203.0                       \n",
       "6  113.0                       \n",
       "7  171.0                       \n",
       "4  239.0                       \n",
       "8  187.0                       "
      ]
     },
     "execution_count": 88,
     "metadata": {},
     "output_type": "execute_result"
    }
   ],
   "source": [
    "import pandas as pd\n",
    "\n",
    "job_analytics = sagemaker.HyperparameterTuningJobAnalytics(tuning_job_name)\n",
    "\n",
    "full_df = job_analytics.dataframe()\n",
    "\n",
    "if len(full_df) > 0:\n",
    "    df = full_df[full_df['FinalObjectiveValue'] > -float('inf')]\n",
    "    if len(df) > 0:\n",
    "        df = df.sort_values('FinalObjectiveValue', ascending=is_minimize)\n",
    "        print(\"Number of training jobs with valid objective: %d\" % len(df))\n",
    "        print({\"lowest\":min(df['FinalObjectiveValue']),\"highest\": max(df['FinalObjectiveValue'])})\n",
    "        pd.set_option('display.max_colwidth', -1)  # Don't truncate TrainingJobName        \n",
    "    else:\n",
    "        print(\"No training jobs have reported valid results yet.\")\n",
    "        \n",
    "df"
   ]
  },
  {
   "cell_type": "markdown",
   "metadata": {},
   "source": [
    "Let's plot the results of the hyperparameter tuning job"
   ]
  },
  {
   "cell_type": "code",
   "execution_count": 89,
   "metadata": {},
   "outputs": [
    {
     "data": {
      "text/html": [
       "\n",
       "    <div class=\"bk-root\">\n",
       "        <a href=\"https://bokeh.pydata.org\" target=\"_blank\" class=\"bk-logo bk-logo-small bk-logo-notebook\"></a>\n",
       "        <span id=\"2666\">Loading BokehJS ...</span>\n",
       "    </div>"
      ]
     },
     "metadata": {},
     "output_type": "display_data"
    },
    {
     "data": {
      "application/javascript": [
       "\n",
       "(function(root) {\n",
       "  function now() {\n",
       "    return new Date();\n",
       "  }\n",
       "\n",
       "  var force = true;\n",
       "\n",
       "  if (typeof (root._bokeh_onload_callbacks) === \"undefined\" || force === true) {\n",
       "    root._bokeh_onload_callbacks = [];\n",
       "    root._bokeh_is_loading = undefined;\n",
       "  }\n",
       "\n",
       "  var JS_MIME_TYPE = 'application/javascript';\n",
       "  var HTML_MIME_TYPE = 'text/html';\n",
       "  var EXEC_MIME_TYPE = 'application/vnd.bokehjs_exec.v0+json';\n",
       "  var CLASS_NAME = 'output_bokeh rendered_html';\n",
       "\n",
       "  /**\n",
       "   * Render data to the DOM node\n",
       "   */\n",
       "  function render(props, node) {\n",
       "    var script = document.createElement(\"script\");\n",
       "    node.appendChild(script);\n",
       "  }\n",
       "\n",
       "  /**\n",
       "   * Handle when an output is cleared or removed\n",
       "   */\n",
       "  function handleClearOutput(event, handle) {\n",
       "    var cell = handle.cell;\n",
       "\n",
       "    var id = cell.output_area._bokeh_element_id;\n",
       "    var server_id = cell.output_area._bokeh_server_id;\n",
       "    // Clean up Bokeh references\n",
       "    if (id != null && id in Bokeh.index) {\n",
       "      Bokeh.index[id].model.document.clear();\n",
       "      delete Bokeh.index[id];\n",
       "    }\n",
       "\n",
       "    if (server_id !== undefined) {\n",
       "      // Clean up Bokeh references\n",
       "      var cmd = \"from bokeh.io.state import curstate; print(curstate().uuid_to_server['\" + server_id + \"'].get_sessions()[0].document.roots[0]._id)\";\n",
       "      cell.notebook.kernel.execute(cmd, {\n",
       "        iopub: {\n",
       "          output: function(msg) {\n",
       "            var id = msg.content.text.trim();\n",
       "            if (id in Bokeh.index) {\n",
       "              Bokeh.index[id].model.document.clear();\n",
       "              delete Bokeh.index[id];\n",
       "            }\n",
       "          }\n",
       "        }\n",
       "      });\n",
       "      // Destroy server and session\n",
       "      var cmd = \"import bokeh.io.notebook as ion; ion.destroy_server('\" + server_id + \"')\";\n",
       "      cell.notebook.kernel.execute(cmd);\n",
       "    }\n",
       "  }\n",
       "\n",
       "  /**\n",
       "   * Handle when a new output is added\n",
       "   */\n",
       "  function handleAddOutput(event, handle) {\n",
       "    var output_area = handle.output_area;\n",
       "    var output = handle.output;\n",
       "\n",
       "    // limit handleAddOutput to display_data with EXEC_MIME_TYPE content only\n",
       "    if ((output.output_type != \"display_data\") || (!output.data.hasOwnProperty(EXEC_MIME_TYPE))) {\n",
       "      return\n",
       "    }\n",
       "\n",
       "    var toinsert = output_area.element.find(\".\" + CLASS_NAME.split(' ')[0]);\n",
       "\n",
       "    if (output.metadata[EXEC_MIME_TYPE][\"id\"] !== undefined) {\n",
       "      toinsert[toinsert.length - 1].firstChild.textContent = output.data[JS_MIME_TYPE];\n",
       "      // store reference to embed id on output_area\n",
       "      output_area._bokeh_element_id = output.metadata[EXEC_MIME_TYPE][\"id\"];\n",
       "    }\n",
       "    if (output.metadata[EXEC_MIME_TYPE][\"server_id\"] !== undefined) {\n",
       "      var bk_div = document.createElement(\"div\");\n",
       "      bk_div.innerHTML = output.data[HTML_MIME_TYPE];\n",
       "      var script_attrs = bk_div.children[0].attributes;\n",
       "      for (var i = 0; i < script_attrs.length; i++) {\n",
       "        toinsert[toinsert.length - 1].firstChild.setAttribute(script_attrs[i].name, script_attrs[i].value);\n",
       "      }\n",
       "      // store reference to server id on output_area\n",
       "      output_area._bokeh_server_id = output.metadata[EXEC_MIME_TYPE][\"server_id\"];\n",
       "    }\n",
       "  }\n",
       "\n",
       "  function register_renderer(events, OutputArea) {\n",
       "\n",
       "    function append_mime(data, metadata, element) {\n",
       "      // create a DOM node to render to\n",
       "      var toinsert = this.create_output_subarea(\n",
       "        metadata,\n",
       "        CLASS_NAME,\n",
       "        EXEC_MIME_TYPE\n",
       "      );\n",
       "      this.keyboard_manager.register_events(toinsert);\n",
       "      // Render to node\n",
       "      var props = {data: data, metadata: metadata[EXEC_MIME_TYPE]};\n",
       "      render(props, toinsert[toinsert.length - 1]);\n",
       "      element.append(toinsert);\n",
       "      return toinsert\n",
       "    }\n",
       "\n",
       "    /* Handle when an output is cleared or removed */\n",
       "    events.on('clear_output.CodeCell', handleClearOutput);\n",
       "    events.on('delete.Cell', handleClearOutput);\n",
       "\n",
       "    /* Handle when a new output is added */\n",
       "    events.on('output_added.OutputArea', handleAddOutput);\n",
       "\n",
       "    /**\n",
       "     * Register the mime type and append_mime function with output_area\n",
       "     */\n",
       "    OutputArea.prototype.register_mime_type(EXEC_MIME_TYPE, append_mime, {\n",
       "      /* Is output safe? */\n",
       "      safe: true,\n",
       "      /* Index of renderer in `output_area.display_order` */\n",
       "      index: 0\n",
       "    });\n",
       "  }\n",
       "\n",
       "  // register the mime type if in Jupyter Notebook environment and previously unregistered\n",
       "  if (root.Jupyter !== undefined) {\n",
       "    var events = require('base/js/events');\n",
       "    var OutputArea = require('notebook/js/outputarea').OutputArea;\n",
       "\n",
       "    if (OutputArea.prototype.mime_types().indexOf(EXEC_MIME_TYPE) == -1) {\n",
       "      register_renderer(events, OutputArea);\n",
       "    }\n",
       "  }\n",
       "\n",
       "  \n",
       "  if (typeof (root._bokeh_timeout) === \"undefined\" || force === true) {\n",
       "    root._bokeh_timeout = Date.now() + 5000;\n",
       "    root._bokeh_failed_load = false;\n",
       "  }\n",
       "\n",
       "  var NB_LOAD_WARNING = {'data': {'text/html':\n",
       "     \"<div style='background-color: #fdd'>\\n\"+\n",
       "     \"<p>\\n\"+\n",
       "     \"BokehJS does not appear to have successfully loaded. If loading BokehJS from CDN, this \\n\"+\n",
       "     \"may be due to a slow or bad network connection. Possible fixes:\\n\"+\n",
       "     \"</p>\\n\"+\n",
       "     \"<ul>\\n\"+\n",
       "     \"<li>re-rerun `output_notebook()` to attempt to load from CDN again, or</li>\\n\"+\n",
       "     \"<li>use INLINE resources instead, as so:</li>\\n\"+\n",
       "     \"</ul>\\n\"+\n",
       "     \"<code>\\n\"+\n",
       "     \"from bokeh.resources import INLINE\\n\"+\n",
       "     \"output_notebook(resources=INLINE)\\n\"+\n",
       "     \"</code>\\n\"+\n",
       "     \"</div>\"}};\n",
       "\n",
       "  function display_loaded() {\n",
       "    var el = document.getElementById(\"2666\");\n",
       "    if (el != null) {\n",
       "      el.textContent = \"BokehJS is loading...\";\n",
       "    }\n",
       "    if (root.Bokeh !== undefined) {\n",
       "      if (el != null) {\n",
       "        el.textContent = \"BokehJS \" + root.Bokeh.version + \" successfully loaded.\";\n",
       "      }\n",
       "    } else if (Date.now() < root._bokeh_timeout) {\n",
       "      setTimeout(display_loaded, 100)\n",
       "    }\n",
       "  }\n",
       "\n",
       "\n",
       "  function run_callbacks() {\n",
       "    try {\n",
       "      root._bokeh_onload_callbacks.forEach(function(callback) { callback() });\n",
       "    }\n",
       "    finally {\n",
       "      delete root._bokeh_onload_callbacks\n",
       "    }\n",
       "    console.info(\"Bokeh: all callbacks have finished\");\n",
       "  }\n",
       "\n",
       "  function load_libs(js_urls, callback) {\n",
       "    root._bokeh_onload_callbacks.push(callback);\n",
       "    if (root._bokeh_is_loading > 0) {\n",
       "      console.log(\"Bokeh: BokehJS is being loaded, scheduling callback at\", now());\n",
       "      return null;\n",
       "    }\n",
       "    if (js_urls == null || js_urls.length === 0) {\n",
       "      run_callbacks();\n",
       "      return null;\n",
       "    }\n",
       "    console.log(\"Bokeh: BokehJS not loaded, scheduling load and callback at\", now());\n",
       "    root._bokeh_is_loading = js_urls.length;\n",
       "    for (var i = 0; i < js_urls.length; i++) {\n",
       "      var url = js_urls[i];\n",
       "      var s = document.createElement('script');\n",
       "      s.src = url;\n",
       "      s.async = false;\n",
       "      s.onreadystatechange = s.onload = function() {\n",
       "        root._bokeh_is_loading--;\n",
       "        if (root._bokeh_is_loading === 0) {\n",
       "          console.log(\"Bokeh: all BokehJS libraries loaded\");\n",
       "          run_callbacks()\n",
       "        }\n",
       "      };\n",
       "      s.onerror = function() {\n",
       "        console.warn(\"failed to load library \" + url);\n",
       "      };\n",
       "      console.log(\"Bokeh: injecting script tag for BokehJS library: \", url);\n",
       "      document.getElementsByTagName(\"head\")[0].appendChild(s);\n",
       "    }\n",
       "  };var element = document.getElementById(\"2666\");\n",
       "  if (element == null) {\n",
       "    console.log(\"Bokeh: ERROR: autoload.js configured with elementid '2666' but no matching script tag was found. \")\n",
       "    return false;\n",
       "  }\n",
       "\n",
       "  var js_urls = [\"https://cdn.pydata.org/bokeh/release/bokeh-1.0.4.min.js\", \"https://cdn.pydata.org/bokeh/release/bokeh-widgets-1.0.4.min.js\", \"https://cdn.pydata.org/bokeh/release/bokeh-tables-1.0.4.min.js\", \"https://cdn.pydata.org/bokeh/release/bokeh-gl-1.0.4.min.js\"];\n",
       "\n",
       "  var inline_js = [\n",
       "    function(Bokeh) {\n",
       "      Bokeh.set_log_level(\"info\");\n",
       "    },\n",
       "    \n",
       "    function(Bokeh) {\n",
       "      \n",
       "    },\n",
       "    function(Bokeh) {\n",
       "      console.log(\"Bokeh: injecting CSS: https://cdn.pydata.org/bokeh/release/bokeh-1.0.4.min.css\");\n",
       "      Bokeh.embed.inject_css(\"https://cdn.pydata.org/bokeh/release/bokeh-1.0.4.min.css\");\n",
       "      console.log(\"Bokeh: injecting CSS: https://cdn.pydata.org/bokeh/release/bokeh-widgets-1.0.4.min.css\");\n",
       "      Bokeh.embed.inject_css(\"https://cdn.pydata.org/bokeh/release/bokeh-widgets-1.0.4.min.css\");\n",
       "      console.log(\"Bokeh: injecting CSS: https://cdn.pydata.org/bokeh/release/bokeh-tables-1.0.4.min.css\");\n",
       "      Bokeh.embed.inject_css(\"https://cdn.pydata.org/bokeh/release/bokeh-tables-1.0.4.min.css\");\n",
       "    }\n",
       "  ];\n",
       "\n",
       "  function run_inline_js() {\n",
       "    \n",
       "    if ((root.Bokeh !== undefined) || (force === true)) {\n",
       "      for (var i = 0; i < inline_js.length; i++) {\n",
       "        inline_js[i].call(root, root.Bokeh);\n",
       "      }if (force === true) {\n",
       "        display_loaded();\n",
       "      }} else if (Date.now() < root._bokeh_timeout) {\n",
       "      setTimeout(run_inline_js, 100);\n",
       "    } else if (!root._bokeh_failed_load) {\n",
       "      console.log(\"Bokeh: BokehJS failed to load within specified timeout.\");\n",
       "      root._bokeh_failed_load = true;\n",
       "    } else if (force !== true) {\n",
       "      var cell = $(document.getElementById(\"2666\")).parents('.cell').data().cell;\n",
       "      cell.output_area.append_execute_result(NB_LOAD_WARNING)\n",
       "    }\n",
       "\n",
       "  }\n",
       "\n",
       "  if (root._bokeh_is_loading === 0) {\n",
       "    console.log(\"Bokeh: BokehJS loaded, going straight to plotting\");\n",
       "    run_inline_js();\n",
       "  } else {\n",
       "    load_libs(js_urls, function() {\n",
       "      console.log(\"Bokeh: BokehJS plotting callback run at\", now());\n",
       "      run_inline_js();\n",
       "    });\n",
       "  }\n",
       "}(window));"
      ],
      "application/vnd.bokehjs_load.v0+json": "\n(function(root) {\n  function now() {\n    return new Date();\n  }\n\n  var force = true;\n\n  if (typeof (root._bokeh_onload_callbacks) === \"undefined\" || force === true) {\n    root._bokeh_onload_callbacks = [];\n    root._bokeh_is_loading = undefined;\n  }\n\n  \n\n  \n  if (typeof (root._bokeh_timeout) === \"undefined\" || force === true) {\n    root._bokeh_timeout = Date.now() + 5000;\n    root._bokeh_failed_load = false;\n  }\n\n  var NB_LOAD_WARNING = {'data': {'text/html':\n     \"<div style='background-color: #fdd'>\\n\"+\n     \"<p>\\n\"+\n     \"BokehJS does not appear to have successfully loaded. If loading BokehJS from CDN, this \\n\"+\n     \"may be due to a slow or bad network connection. Possible fixes:\\n\"+\n     \"</p>\\n\"+\n     \"<ul>\\n\"+\n     \"<li>re-rerun `output_notebook()` to attempt to load from CDN again, or</li>\\n\"+\n     \"<li>use INLINE resources instead, as so:</li>\\n\"+\n     \"</ul>\\n\"+\n     \"<code>\\n\"+\n     \"from bokeh.resources import INLINE\\n\"+\n     \"output_notebook(resources=INLINE)\\n\"+\n     \"</code>\\n\"+\n     \"</div>\"}};\n\n  function display_loaded() {\n    var el = document.getElementById(\"2666\");\n    if (el != null) {\n      el.textContent = \"BokehJS is loading...\";\n    }\n    if (root.Bokeh !== undefined) {\n      if (el != null) {\n        el.textContent = \"BokehJS \" + root.Bokeh.version + \" successfully loaded.\";\n      }\n    } else if (Date.now() < root._bokeh_timeout) {\n      setTimeout(display_loaded, 100)\n    }\n  }\n\n\n  function run_callbacks() {\n    try {\n      root._bokeh_onload_callbacks.forEach(function(callback) { callback() });\n    }\n    finally {\n      delete root._bokeh_onload_callbacks\n    }\n    console.info(\"Bokeh: all callbacks have finished\");\n  }\n\n  function load_libs(js_urls, callback) {\n    root._bokeh_onload_callbacks.push(callback);\n    if (root._bokeh_is_loading > 0) {\n      console.log(\"Bokeh: BokehJS is being loaded, scheduling callback at\", now());\n      return null;\n    }\n    if (js_urls == null || js_urls.length === 0) {\n      run_callbacks();\n      return null;\n    }\n    console.log(\"Bokeh: BokehJS not loaded, scheduling load and callback at\", now());\n    root._bokeh_is_loading = js_urls.length;\n    for (var i = 0; i < js_urls.length; i++) {\n      var url = js_urls[i];\n      var s = document.createElement('script');\n      s.src = url;\n      s.async = false;\n      s.onreadystatechange = s.onload = function() {\n        root._bokeh_is_loading--;\n        if (root._bokeh_is_loading === 0) {\n          console.log(\"Bokeh: all BokehJS libraries loaded\");\n          run_callbacks()\n        }\n      };\n      s.onerror = function() {\n        console.warn(\"failed to load library \" + url);\n      };\n      console.log(\"Bokeh: injecting script tag for BokehJS library: \", url);\n      document.getElementsByTagName(\"head\")[0].appendChild(s);\n    }\n  };var element = document.getElementById(\"2666\");\n  if (element == null) {\n    console.log(\"Bokeh: ERROR: autoload.js configured with elementid '2666' but no matching script tag was found. \")\n    return false;\n  }\n\n  var js_urls = [\"https://cdn.pydata.org/bokeh/release/bokeh-1.0.4.min.js\", \"https://cdn.pydata.org/bokeh/release/bokeh-widgets-1.0.4.min.js\", \"https://cdn.pydata.org/bokeh/release/bokeh-tables-1.0.4.min.js\", \"https://cdn.pydata.org/bokeh/release/bokeh-gl-1.0.4.min.js\"];\n\n  var inline_js = [\n    function(Bokeh) {\n      Bokeh.set_log_level(\"info\");\n    },\n    \n    function(Bokeh) {\n      \n    },\n    function(Bokeh) {\n      console.log(\"Bokeh: injecting CSS: https://cdn.pydata.org/bokeh/release/bokeh-1.0.4.min.css\");\n      Bokeh.embed.inject_css(\"https://cdn.pydata.org/bokeh/release/bokeh-1.0.4.min.css\");\n      console.log(\"Bokeh: injecting CSS: https://cdn.pydata.org/bokeh/release/bokeh-widgets-1.0.4.min.css\");\n      Bokeh.embed.inject_css(\"https://cdn.pydata.org/bokeh/release/bokeh-widgets-1.0.4.min.css\");\n      console.log(\"Bokeh: injecting CSS: https://cdn.pydata.org/bokeh/release/bokeh-tables-1.0.4.min.css\");\n      Bokeh.embed.inject_css(\"https://cdn.pydata.org/bokeh/release/bokeh-tables-1.0.4.min.css\");\n    }\n  ];\n\n  function run_inline_js() {\n    \n    if ((root.Bokeh !== undefined) || (force === true)) {\n      for (var i = 0; i < inline_js.length; i++) {\n        inline_js[i].call(root, root.Bokeh);\n      }if (force === true) {\n        display_loaded();\n      }} else if (Date.now() < root._bokeh_timeout) {\n      setTimeout(run_inline_js, 100);\n    } else if (!root._bokeh_failed_load) {\n      console.log(\"Bokeh: BokehJS failed to load within specified timeout.\");\n      root._bokeh_failed_load = true;\n    } else if (force !== true) {\n      var cell = $(document.getElementById(\"2666\")).parents('.cell').data().cell;\n      cell.output_area.append_execute_result(NB_LOAD_WARNING)\n    }\n\n  }\n\n  if (root._bokeh_is_loading === 0) {\n    console.log(\"Bokeh: BokehJS loaded, going straight to plotting\");\n    run_inline_js();\n  } else {\n    load_libs(js_urls, function() {\n      console.log(\"Bokeh: BokehJS plotting callback run at\", now());\n      run_inline_js();\n    });\n  }\n}(window));"
     },
     "metadata": {},
     "output_type": "display_data"
    },
    {
     "data": {
      "text/html": [
       "\n",
       "\n",
       "\n",
       "\n",
       "\n",
       "\n",
       "  <div class=\"bk-root\" id=\"2c65626d-648a-4b4f-8b9b-7f57d3da88cd\" data-root-id=\"2843\"></div>\n"
      ]
     },
     "metadata": {},
     "output_type": "display_data"
    },
    {
     "data": {
      "application/javascript": [
       "(function(root) {\n",
       "  function embed_document(root) {\n",
       "    \n",
       "  var docs_json = {\"c34c8350-777e-4443-a1c3-fc5e0938c464\":{\"roots\":{\"references\":[{\"attributes\":{\"children\":[{\"id\":\"2669\",\"subtype\":\"Figure\",\"type\":\"Plot\"},{\"id\":\"2713\",\"subtype\":\"Figure\",\"type\":\"Plot\"},{\"id\":\"2757\",\"subtype\":\"Figure\",\"type\":\"Plot\"},{\"id\":\"2801\",\"subtype\":\"Figure\",\"type\":\"Plot\"}]},\"id\":\"2843\",\"type\":\"Column\"},{\"attributes\":{},\"id\":\"2721\",\"type\":\"LinearScale\"},{\"attributes\":{\"callback\":null},\"id\":\"2715\",\"type\":\"DataRange1d\"},{\"attributes\":{\"callback\":null,\"tooltips\":[[\"FinalObjectiveValue\",\"@FinalObjectiveValue\"],[\"TrainingJobName\",\"@TrainingJobName\"],[\"epochs\",\"@{epochs}\"],[\"prediction_length\",\"@{prediction_length}\"],[\"num_layers\",\"@{num_layers}\"],[\"dropout_rate\",\"@{dropout_rate}\"]]},\"id\":\"2711\",\"type\":\"HoverTool\"},{\"attributes\":{\"callback\":null,\"data\":{\"FinalObjectiveValue\":{\"__ndarray__\":\"AAAAgLp3XUAAAABAAvVeQAAAAKCsgGFAAAAAgDVCYkAAAAAg9X1kQAAAACCfwW9AAAAA4HkecUAAAACAI+hyQAAAAOAVC3NAAAAAYOUoc0A=\",\"dtype\":\"float64\",\"shape\":[10]},\"TrainingElapsedTimeSeconds\":{\"__ndarray__\":\"AAAAAABAXkAAAAAAAIBbQAAAAAAA4GFAAAAAAAAAUkAAAAAAAMBSQAAAAAAAYGlAAAAAAABAXEAAAAAAAGBlQAAAAAAA4G1AAAAAAABgZ0A=\",\"dtype\":\"float64\",\"shape\":[10]},\"TrainingEndTime\":{\"__ndarray__\":\"AACIqK/qdkIAgILdr+p2QgCArqyv6nZCAIDJ5q/qdkIAgGrhr+p2QgCAS/uv6nZCAACUpq/qdkIAgIqyr+p2QgCAP/2v6nZCAIDjuK/qdkI=\",\"dtype\":\"float64\",\"shape\":[10]},\"TrainingJobName\":[\"sagemaker-mxnet-191127-0345-005-6d77643d\",\"sagemaker-mxnet-191127-0345-007-14adcf9b\",\"sagemaker-mxnet-191127-0345-001-938b14a2\",\"sagemaker-mxnet-191127-0345-010-e9e04cd1\",\"sagemaker-mxnet-191127-0345-009-049adfb0\",\"sagemaker-mxnet-191127-0345-008-47c9bc32\",\"sagemaker-mxnet-191127-0345-004-57acaf07\",\"sagemaker-mxnet-191127-0345-003-6131b763\",\"sagemaker-mxnet-191127-0345-006-47297f38\",\"sagemaker-mxnet-191127-0345-002-6e26a47f\"],\"TrainingJobStatus\":[\"Completed\",\"Completed\",\"Completed\",\"Completed\",\"Completed\",\"Completed\",\"Completed\",\"Completed\",\"Completed\",\"Completed\"],\"TrainingStartTime\":{\"__ndarray__\":\"AID9iq/qdkIAgKfCr+p2QgAAxYmv6nZCAIA11a/qdkIAABvPr+p2QgAAvMmv6nZCAID9iq/qdkIAAMuIr+p2QgAA5sKv6nZCAAA8i6/qdkI=\",\"dtype\":\"float64\",\"shape\":[10]},\"dropout_rate\":{\"__ndarray__\":\"JI2bkkrl3j8hKJDA24jeP1AOXc7UUbI/Qot4roll3j9Ci3iuiX3XP+b7tbjg19w/fNpXyTt7yD/6uYT5xSzZP+b7tbjgpd8/5GlMeRPNwz8=\",\"dtype\":\"float64\",\"shape\":[10]},\"epochs\":{\"__ndarray__\":\"AAAAAAAAKkAAAAAAAAAwQAAAAAAAADJAAAAAAAAAFEAAAAAAAAAYQAAAAAAAADJAAAAAAAAAJkAAAAAAAAAxQAAAAAAAAC5AAAAAAAAAMEA=\",\"dtype\":\"float64\",\"shape\":[10]},\"index\":[5,3,9,0,1,2,6,7,4,8],\"num_layers\":{\"__ndarray__\":\"AAAAAAAAAEAAAAAAAADwPwAAAAAAAABAAAAAAAAA8D8AAAAAAAAAQAAAAAAAABRAAAAAAAAAAEAAAAAAAAAIQAAAAAAAAAhAAAAAAAAAFEA=\",\"dtype\":\"float64\",\"shape\":[10]},\"prediction_length\":{\"__ndarray__\":\"AAAAAAAAJkAAAAAAAAAcQAAAAAAAABxAAAAAAAAAIkAAAAAAAAAUQAAAAAAAACpAAAAAAAAAMUAAAAAAAAAwQAAAAAAAAC5AAAAAAAAAJEA=\",\"dtype\":\"float64\",\"shape\":[10]}},\"selected\":{\"id\":\"2979\",\"type\":\"Selection\"},\"selection_policy\":{\"id\":\"2978\",\"type\":\"UnionRenderers\"}},\"id\":\"2749\",\"type\":\"ColumnDataSource\"},{\"attributes\":{\"below\":[{\"id\":\"2679\",\"type\":\"LinearAxis\"}],\"left\":[{\"id\":\"2684\",\"type\":\"LinearAxis\"}],\"plot_height\":500,\"plot_width\":500,\"renderers\":[{\"id\":\"2679\",\"type\":\"LinearAxis\"},{\"id\":\"2683\",\"type\":\"Grid\"},{\"id\":\"2684\",\"type\":\"LinearAxis\"},{\"id\":\"2688\",\"type\":\"Grid\"},{\"id\":\"2709\",\"type\":\"GlyphRenderer\"}],\"title\":{\"id\":\"2668\",\"type\":\"Title\"},\"toolbar\":{\"id\":\"2696\",\"type\":\"Toolbar\"},\"x_range\":{\"id\":\"2671\",\"type\":\"DataRange1d\"},\"x_scale\":{\"id\":\"2675\",\"type\":\"LinearScale\"},\"y_range\":{\"id\":\"2673\",\"type\":\"DataRange1d\"},\"y_scale\":{\"id\":\"2677\",\"type\":\"LinearScale\"}},\"id\":\"2669\",\"subtype\":\"Figure\",\"type\":\"Plot\"},{\"attributes\":{\"source\":{\"id\":\"2705\",\"type\":\"ColumnDataSource\"}},\"id\":\"2710\",\"type\":\"CDSView\"},{\"attributes\":{\"callback\":null,\"data\":{\"FinalObjectiveValue\":{\"__ndarray__\":\"AAAAgLp3XUAAAABAAvVeQAAAAKCsgGFAAAAAgDVCYkAAAAAg9X1kQAAAACCfwW9AAAAA4HkecUAAAACAI+hyQAAAAOAVC3NAAAAAYOUoc0A=\",\"dtype\":\"float64\",\"shape\":[10]},\"TrainingElapsedTimeSeconds\":{\"__ndarray__\":\"AAAAAABAXkAAAAAAAIBbQAAAAAAA4GFAAAAAAAAAUkAAAAAAAMBSQAAAAAAAYGlAAAAAAABAXEAAAAAAAGBlQAAAAAAA4G1AAAAAAABgZ0A=\",\"dtype\":\"float64\",\"shape\":[10]},\"TrainingEndTime\":{\"__ndarray__\":\"AACIqK/qdkIAgILdr+p2QgCArqyv6nZCAIDJ5q/qdkIAgGrhr+p2QgCAS/uv6nZCAACUpq/qdkIAgIqyr+p2QgCAP/2v6nZCAIDjuK/qdkI=\",\"dtype\":\"float64\",\"shape\":[10]},\"TrainingJobName\":[\"sagemaker-mxnet-191127-0345-005-6d77643d\",\"sagemaker-mxnet-191127-0345-007-14adcf9b\",\"sagemaker-mxnet-191127-0345-001-938b14a2\",\"sagemaker-mxnet-191127-0345-010-e9e04cd1\",\"sagemaker-mxnet-191127-0345-009-049adfb0\",\"sagemaker-mxnet-191127-0345-008-47c9bc32\",\"sagemaker-mxnet-191127-0345-004-57acaf07\",\"sagemaker-mxnet-191127-0345-003-6131b763\",\"sagemaker-mxnet-191127-0345-006-47297f38\",\"sagemaker-mxnet-191127-0345-002-6e26a47f\"],\"TrainingJobStatus\":[\"Completed\",\"Completed\",\"Completed\",\"Completed\",\"Completed\",\"Completed\",\"Completed\",\"Completed\",\"Completed\",\"Completed\"],\"TrainingStartTime\":{\"__ndarray__\":\"AID9iq/qdkIAgKfCr+p2QgAAxYmv6nZCAIA11a/qdkIAABvPr+p2QgAAvMmv6nZCAID9iq/qdkIAAMuIr+p2QgAA5sKv6nZCAAA8i6/qdkI=\",\"dtype\":\"float64\",\"shape\":[10]},\"dropout_rate\":{\"__ndarray__\":\"JI2bkkrl3j8hKJDA24jeP1AOXc7UUbI/Qot4roll3j9Ci3iuiX3XP+b7tbjg19w/fNpXyTt7yD/6uYT5xSzZP+b7tbjgpd8/5GlMeRPNwz8=\",\"dtype\":\"float64\",\"shape\":[10]},\"epochs\":{\"__ndarray__\":\"AAAAAAAAKkAAAAAAAAAwQAAAAAAAADJAAAAAAAAAFEAAAAAAAAAYQAAAAAAAADJAAAAAAAAAJkAAAAAAAAAxQAAAAAAAAC5AAAAAAAAAMEA=\",\"dtype\":\"float64\",\"shape\":[10]},\"index\":[5,3,9,0,1,2,6,7,4,8],\"num_layers\":{\"__ndarray__\":\"AAAAAAAAAEAAAAAAAADwPwAAAAAAAABAAAAAAAAA8D8AAAAAAAAAQAAAAAAAABRAAAAAAAAAAEAAAAAAAAAIQAAAAAAAAAhAAAAAAAAAFEA=\",\"dtype\":\"float64\",\"shape\":[10]},\"prediction_length\":{\"__ndarray__\":\"AAAAAAAAJkAAAAAAAAAcQAAAAAAAABxAAAAAAAAAIkAAAAAAAAAUQAAAAAAAACpAAAAAAAAAMUAAAAAAAAAwQAAAAAAAAC5AAAAAAAAAJEA=\",\"dtype\":\"float64\",\"shape\":[10]}},\"selected\":{\"id\":\"2977\",\"type\":\"Selection\"},\"selection_policy\":{\"id\":\"2976\",\"type\":\"UnionRenderers\"}},\"id\":\"2705\",\"type\":\"ColumnDataSource\"},{\"attributes\":{\"plot\":{\"id\":\"2713\",\"subtype\":\"Figure\",\"type\":\"Plot\"},\"ticker\":{\"id\":\"2724\",\"type\":\"BasicTicker\"}},\"id\":\"2727\",\"type\":\"Grid\"},{\"attributes\":{},\"id\":\"2719\",\"type\":\"LinearScale\"},{\"attributes\":{},\"id\":\"2729\",\"type\":\"BasicTicker\"},{\"attributes\":{\"below\":[{\"id\":\"2723\",\"type\":\"LinearAxis\"}],\"left\":[{\"id\":\"2728\",\"type\":\"LinearAxis\"}],\"plot_height\":500,\"plot_width\":500,\"renderers\":[{\"id\":\"2723\",\"type\":\"LinearAxis\"},{\"id\":\"2727\",\"type\":\"Grid\"},{\"id\":\"2728\",\"type\":\"LinearAxis\"},{\"id\":\"2732\",\"type\":\"Grid\"},{\"id\":\"2753\",\"type\":\"GlyphRenderer\"}],\"title\":{\"id\":\"2712\",\"type\":\"Title\"},\"toolbar\":{\"id\":\"2740\",\"type\":\"Toolbar\"},\"x_range\":{\"id\":\"2715\",\"type\":\"DataRange1d\"},\"x_scale\":{\"id\":\"2719\",\"type\":\"LinearScale\"},\"y_range\":{\"id\":\"2717\",\"type\":\"DataRange1d\"},\"y_scale\":{\"id\":\"2721\",\"type\":\"LinearScale\"}},\"id\":\"2713\",\"subtype\":\"Figure\",\"type\":\"Plot\"},{\"attributes\":{\"callback\":null},\"id\":\"2717\",\"type\":\"DataRange1d\"},{\"attributes\":{},\"id\":\"2724\",\"type\":\"BasicTicker\"},{\"attributes\":{\"plot\":null,\"text\":\"Objective vs prediction_length\"},\"id\":\"2712\",\"type\":\"Title\"},{\"attributes\":{\"axis_label\":\"prediction_length\",\"formatter\":{\"id\":\"2965\",\"type\":\"BasicTickFormatter\"},\"plot\":{\"id\":\"2713\",\"subtype\":\"Figure\",\"type\":\"Plot\"},\"ticker\":{\"id\":\"2724\",\"type\":\"BasicTicker\"}},\"id\":\"2723\",\"type\":\"LinearAxis\"},{\"attributes\":{\"callback\":null,\"tooltips\":[[\"FinalObjectiveValue\",\"@FinalObjectiveValue\"],[\"TrainingJobName\",\"@TrainingJobName\"],[\"epochs\",\"@{epochs}\"],[\"prediction_length\",\"@{prediction_length}\"],[\"num_layers\",\"@{num_layers}\"],[\"dropout_rate\",\"@{dropout_rate}\"]]},\"id\":\"2667\",\"type\":\"HoverTool\"},{\"attributes\":{\"axis_label\":\"loss\",\"formatter\":{\"id\":\"2967\",\"type\":\"BasicTickFormatter\"},\"plot\":{\"id\":\"2713\",\"subtype\":\"Figure\",\"type\":\"Plot\"},\"ticker\":{\"id\":\"2729\",\"type\":\"BasicTicker\"}},\"id\":\"2728\",\"type\":\"LinearAxis\"},{\"attributes\":{\"callback\":null},\"id\":\"2673\",\"type\":\"DataRange1d\"},{\"attributes\":{\"dimension\":1,\"plot\":{\"id\":\"2713\",\"subtype\":\"Figure\",\"type\":\"Plot\"},\"ticker\":{\"id\":\"2729\",\"type\":\"BasicTicker\"}},\"id\":\"2732\",\"type\":\"Grid\"},{\"attributes\":{},\"id\":\"2807\",\"type\":\"LinearScale\"},{\"attributes\":{},\"id\":\"2735\",\"type\":\"WheelZoomTool\"},{\"attributes\":{},\"id\":\"2734\",\"type\":\"CrosshairTool\"},{\"attributes\":{},\"id\":\"2733\",\"type\":\"PanTool\"},{\"attributes\":{},\"id\":\"2736\",\"type\":\"ZoomInTool\"},{\"attributes\":{\"callback\":null},\"id\":\"2671\",\"type\":\"DataRange1d\"},{\"attributes\":{\"fill_color\":{\"value\":\"#1f77b4\"},\"line_color\":{\"value\":\"#1f77b4\"},\"x\":{\"field\":\"prediction_length\"},\"y\":{\"field\":\"FinalObjectiveValue\"}},\"id\":\"2751\",\"type\":\"Circle\"},{\"attributes\":{\"below\":[{\"id\":\"2767\",\"type\":\"LinearAxis\"}],\"left\":[{\"id\":\"2772\",\"type\":\"LinearAxis\"}],\"plot_height\":500,\"plot_width\":500,\"renderers\":[{\"id\":\"2767\",\"type\":\"LinearAxis\"},{\"id\":\"2771\",\"type\":\"Grid\"},{\"id\":\"2772\",\"type\":\"LinearAxis\"},{\"id\":\"2776\",\"type\":\"Grid\"},{\"id\":\"2797\",\"type\":\"GlyphRenderer\"}],\"title\":{\"id\":\"2756\",\"type\":\"Title\"},\"toolbar\":{\"id\":\"2784\",\"type\":\"Toolbar\"},\"x_range\":{\"id\":\"2759\",\"type\":\"DataRange1d\"},\"x_scale\":{\"id\":\"2763\",\"type\":\"LinearScale\"},\"y_range\":{\"id\":\"2761\",\"type\":\"DataRange1d\"},\"y_scale\":{\"id\":\"2765\",\"type\":\"LinearScale\"}},\"id\":\"2757\",\"subtype\":\"Figure\",\"type\":\"Plot\"},{\"attributes\":{\"axis_label\":\"loss\",\"formatter\":{\"id\":\"2971\",\"type\":\"BasicTickFormatter\"},\"plot\":{\"id\":\"2757\",\"subtype\":\"Figure\",\"type\":\"Plot\"},\"ticker\":{\"id\":\"2773\",\"type\":\"BasicTicker\"}},\"id\":\"2772\",\"type\":\"LinearAxis\"},{\"attributes\":{},\"id\":\"2739\",\"type\":\"ResetTool\"},{\"attributes\":{},\"id\":\"2827\",\"type\":\"ResetTool\"},{\"attributes\":{\"plot\":null,\"text\":\"Objective vs num_layers\"},\"id\":\"2756\",\"type\":\"Title\"},{\"attributes\":{},\"id\":\"2809\",\"type\":\"LinearScale\"},{\"attributes\":{\"plot\":null,\"text\":\"Objective vs epochs\"},\"id\":\"2668\",\"type\":\"Title\"},{\"attributes\":{},\"id\":\"2967\",\"type\":\"BasicTickFormatter\"},{\"attributes\":{},\"id\":\"2965\",\"type\":\"BasicTickFormatter\"},{\"attributes\":{},\"id\":\"2783\",\"type\":\"ResetTool\"},{\"attributes\":{},\"id\":\"2963\",\"type\":\"BasicTickFormatter\"},{\"attributes\":{},\"id\":\"2695\",\"type\":\"ResetTool\"},{\"attributes\":{},\"id\":\"2768\",\"type\":\"BasicTicker\"},{\"attributes\":{\"fill_color\":{\"value\":\"#1f77b4\"},\"line_color\":{\"value\":\"#1f77b4\"},\"x\":{\"field\":\"dropout_rate\"},\"y\":{\"field\":\"FinalObjectiveValue\"}},\"id\":\"2839\",\"type\":\"Circle\"},{\"attributes\":{\"plot\":{\"id\":\"2757\",\"subtype\":\"Figure\",\"type\":\"Plot\"},\"ticker\":{\"id\":\"2768\",\"type\":\"BasicTicker\"}},\"id\":\"2771\",\"type\":\"Grid\"},{\"attributes\":{},\"id\":\"2694\",\"type\":\"UndoTool\"},{\"attributes\":{},\"id\":\"2978\",\"type\":\"UnionRenderers\"},{\"attributes\":{\"data_source\":{\"id\":\"2837\",\"type\":\"ColumnDataSource\"},\"glyph\":{\"id\":\"2839\",\"type\":\"Circle\"},\"hover_glyph\":null,\"muted_glyph\":null,\"nonselection_glyph\":{\"id\":\"2840\",\"type\":\"Circle\"},\"selection_glyph\":null,\"view\":{\"id\":\"2842\",\"type\":\"CDSView\"}},\"id\":\"2841\",\"type\":\"GlyphRenderer\"},{\"attributes\":{},\"id\":\"2693\",\"type\":\"ZoomOutTool\"},{\"attributes\":{\"fill_alpha\":{\"value\":0.1},\"fill_color\":{\"value\":\"#1f77b4\"},\"line_alpha\":{\"value\":0.1},\"line_color\":{\"value\":\"#1f77b4\"},\"x\":{\"field\":\"dropout_rate\"},\"y\":{\"field\":\"FinalObjectiveValue\"}},\"id\":\"2840\",\"type\":\"Circle\"},{\"attributes\":{},\"id\":\"2692\",\"type\":\"ZoomInTool\"},{\"attributes\":{},\"id\":\"2738\",\"type\":\"UndoTool\"},{\"attributes\":{},\"id\":\"2691\",\"type\":\"WheelZoomTool\"},{\"attributes\":{\"source\":{\"id\":\"2837\",\"type\":\"ColumnDataSource\"}},\"id\":\"2842\",\"type\":\"CDSView\"},{\"attributes\":{},\"id\":\"2690\",\"type\":\"CrosshairTool\"},{\"attributes\":{},\"id\":\"2976\",\"type\":\"UnionRenderers\"},{\"attributes\":{},\"id\":\"2689\",\"type\":\"PanTool\"},{\"attributes\":{},\"id\":\"2737\",\"type\":\"ZoomOutTool\"},{\"attributes\":{\"active_drag\":\"auto\",\"active_inspect\":\"auto\",\"active_multi\":null,\"active_scroll\":\"auto\",\"active_tap\":\"auto\",\"tools\":[{\"id\":\"2667\",\"type\":\"HoverTool\"},{\"id\":\"2689\",\"type\":\"PanTool\"},{\"id\":\"2690\",\"type\":\"CrosshairTool\"},{\"id\":\"2691\",\"type\":\"WheelZoomTool\"},{\"id\":\"2692\",\"type\":\"ZoomInTool\"},{\"id\":\"2693\",\"type\":\"ZoomOutTool\"},{\"id\":\"2694\",\"type\":\"UndoTool\"},{\"id\":\"2695\",\"type\":\"ResetTool\"}]},\"id\":\"2696\",\"type\":\"Toolbar\"},{\"attributes\":{},\"id\":\"2781\",\"type\":\"ZoomOutTool\"},{\"attributes\":{\"fill_color\":{\"value\":\"#1f77b4\"},\"line_color\":{\"value\":\"#1f77b4\"},\"x\":{\"field\":\"epochs\"},\"y\":{\"field\":\"FinalObjectiveValue\"}},\"id\":\"2707\",\"type\":\"Circle\"},{\"attributes\":{\"callback\":null,\"tooltips\":[[\"FinalObjectiveValue\",\"@FinalObjectiveValue\"],[\"TrainingJobName\",\"@TrainingJobName\"],[\"epochs\",\"@{epochs}\"],[\"prediction_length\",\"@{prediction_length}\"],[\"num_layers\",\"@{num_layers}\"],[\"dropout_rate\",\"@{dropout_rate}\"]]},\"id\":\"2755\",\"type\":\"HoverTool\"},{\"attributes\":{\"active_drag\":\"auto\",\"active_inspect\":\"auto\",\"active_multi\":null,\"active_scroll\":\"auto\",\"active_tap\":\"auto\",\"tools\":[{\"id\":\"2711\",\"type\":\"HoverTool\"},{\"id\":\"2733\",\"type\":\"PanTool\"},{\"id\":\"2734\",\"type\":\"CrosshairTool\"},{\"id\":\"2735\",\"type\":\"WheelZoomTool\"},{\"id\":\"2736\",\"type\":\"ZoomInTool\"},{\"id\":\"2737\",\"type\":\"ZoomOutTool\"},{\"id\":\"2738\",\"type\":\"UndoTool\"},{\"id\":\"2739\",\"type\":\"ResetTool\"}]},\"id\":\"2740\",\"type\":\"Toolbar\"},{\"attributes\":{\"axis_label\":\"epochs\",\"formatter\":{\"id\":\"2961\",\"type\":\"BasicTickFormatter\"},\"plot\":{\"id\":\"2669\",\"subtype\":\"Figure\",\"type\":\"Plot\"},\"ticker\":{\"id\":\"2680\",\"type\":\"BasicTicker\"}},\"id\":\"2679\",\"type\":\"LinearAxis\"},{\"attributes\":{},\"id\":\"2782\",\"type\":\"UndoTool\"},{\"attributes\":{\"fill_alpha\":{\"value\":0.1},\"fill_color\":{\"value\":\"#1f77b4\"},\"line_alpha\":{\"value\":0.1},\"line_color\":{\"value\":\"#1f77b4\"},\"x\":{\"field\":\"prediction_length\"},\"y\":{\"field\":\"FinalObjectiveValue\"}},\"id\":\"2752\",\"type\":\"Circle\"},{\"attributes\":{\"fill_color\":{\"value\":\"#1f77b4\"},\"line_color\":{\"value\":\"#1f77b4\"},\"x\":{\"field\":\"num_layers\"},\"y\":{\"field\":\"FinalObjectiveValue\"}},\"id\":\"2795\",\"type\":\"Circle\"},{\"attributes\":{},\"id\":\"2780\",\"type\":\"ZoomInTool\"},{\"attributes\":{},\"id\":\"2825\",\"type\":\"ZoomOutTool\"},{\"attributes\":{\"data_source\":{\"id\":\"2793\",\"type\":\"ColumnDataSource\"},\"glyph\":{\"id\":\"2795\",\"type\":\"Circle\"},\"hover_glyph\":null,\"muted_glyph\":null,\"nonselection_glyph\":{\"id\":\"2796\",\"type\":\"Circle\"},\"selection_glyph\":null,\"view\":{\"id\":\"2798\",\"type\":\"CDSView\"}},\"id\":\"2797\",\"type\":\"GlyphRenderer\"},{\"attributes\":{\"plot\":{\"id\":\"2801\",\"subtype\":\"Figure\",\"type\":\"Plot\"},\"ticker\":{\"id\":\"2812\",\"type\":\"BasicTicker\"}},\"id\":\"2815\",\"type\":\"Grid\"},{\"attributes\":{\"active_drag\":\"auto\",\"active_inspect\":\"auto\",\"active_multi\":null,\"active_scroll\":\"auto\",\"active_tap\":\"auto\",\"tools\":[{\"id\":\"2755\",\"type\":\"HoverTool\"},{\"id\":\"2777\",\"type\":\"PanTool\"},{\"id\":\"2778\",\"type\":\"CrosshairTool\"},{\"id\":\"2779\",\"type\":\"WheelZoomTool\"},{\"id\":\"2780\",\"type\":\"ZoomInTool\"},{\"id\":\"2781\",\"type\":\"ZoomOutTool\"},{\"id\":\"2782\",\"type\":\"UndoTool\"},{\"id\":\"2783\",\"type\":\"ResetTool\"}]},\"id\":\"2784\",\"type\":\"Toolbar\"},{\"attributes\":{},\"id\":\"2779\",\"type\":\"WheelZoomTool\"},{\"attributes\":{\"callback\":null,\"tooltips\":[[\"FinalObjectiveValue\",\"@FinalObjectiveValue\"],[\"TrainingJobName\",\"@TrainingJobName\"],[\"epochs\",\"@{epochs}\"],[\"prediction_length\",\"@{prediction_length}\"],[\"num_layers\",\"@{num_layers}\"],[\"dropout_rate\",\"@{dropout_rate}\"]]},\"id\":\"2799\",\"type\":\"HoverTool\"},{\"attributes\":{},\"id\":\"2977\",\"type\":\"Selection\"},{\"attributes\":{\"axis_label\":\"loss\",\"formatter\":{\"id\":\"2963\",\"type\":\"BasicTickFormatter\"},\"plot\":{\"id\":\"2669\",\"subtype\":\"Figure\",\"type\":\"Plot\"},\"ticker\":{\"id\":\"2685\",\"type\":\"BasicTicker\"}},\"id\":\"2684\",\"type\":\"LinearAxis\"},{\"attributes\":{\"callback\":null,\"data\":{\"FinalObjectiveValue\":{\"__ndarray__\":\"AAAAgLp3XUAAAABAAvVeQAAAAKCsgGFAAAAAgDVCYkAAAAAg9X1kQAAAACCfwW9AAAAA4HkecUAAAACAI+hyQAAAAOAVC3NAAAAAYOUoc0A=\",\"dtype\":\"float64\",\"shape\":[10]},\"TrainingElapsedTimeSeconds\":{\"__ndarray__\":\"AAAAAABAXkAAAAAAAIBbQAAAAAAA4GFAAAAAAAAAUkAAAAAAAMBSQAAAAAAAYGlAAAAAAABAXEAAAAAAAGBlQAAAAAAA4G1AAAAAAABgZ0A=\",\"dtype\":\"float64\",\"shape\":[10]},\"TrainingEndTime\":{\"__ndarray__\":\"AACIqK/qdkIAgILdr+p2QgCArqyv6nZCAIDJ5q/qdkIAgGrhr+p2QgCAS/uv6nZCAACUpq/qdkIAgIqyr+p2QgCAP/2v6nZCAIDjuK/qdkI=\",\"dtype\":\"float64\",\"shape\":[10]},\"TrainingJobName\":[\"sagemaker-mxnet-191127-0345-005-6d77643d\",\"sagemaker-mxnet-191127-0345-007-14adcf9b\",\"sagemaker-mxnet-191127-0345-001-938b14a2\",\"sagemaker-mxnet-191127-0345-010-e9e04cd1\",\"sagemaker-mxnet-191127-0345-009-049adfb0\",\"sagemaker-mxnet-191127-0345-008-47c9bc32\",\"sagemaker-mxnet-191127-0345-004-57acaf07\",\"sagemaker-mxnet-191127-0345-003-6131b763\",\"sagemaker-mxnet-191127-0345-006-47297f38\",\"sagemaker-mxnet-191127-0345-002-6e26a47f\"],\"TrainingJobStatus\":[\"Completed\",\"Completed\",\"Completed\",\"Completed\",\"Completed\",\"Completed\",\"Completed\",\"Completed\",\"Completed\",\"Completed\"],\"TrainingStartTime\":{\"__ndarray__\":\"AID9iq/qdkIAgKfCr+p2QgAAxYmv6nZCAIA11a/qdkIAABvPr+p2QgAAvMmv6nZCAID9iq/qdkIAAMuIr+p2QgAA5sKv6nZCAAA8i6/qdkI=\",\"dtype\":\"float64\",\"shape\":[10]},\"dropout_rate\":{\"__ndarray__\":\"JI2bkkrl3j8hKJDA24jeP1AOXc7UUbI/Qot4roll3j9Ci3iuiX3XP+b7tbjg19w/fNpXyTt7yD/6uYT5xSzZP+b7tbjgpd8/5GlMeRPNwz8=\",\"dtype\":\"float64\",\"shape\":[10]},\"epochs\":{\"__ndarray__\":\"AAAAAAAAKkAAAAAAAAAwQAAAAAAAADJAAAAAAAAAFEAAAAAAAAAYQAAAAAAAADJAAAAAAAAAJkAAAAAAAAAxQAAAAAAAAC5AAAAAAAAAMEA=\",\"dtype\":\"float64\",\"shape\":[10]},\"index\":[5,3,9,0,1,2,6,7,4,8],\"num_layers\":{\"__ndarray__\":\"AAAAAAAAAEAAAAAAAADwPwAAAAAAAABAAAAAAAAA8D8AAAAAAAAAQAAAAAAAABRAAAAAAAAAAEAAAAAAAAAIQAAAAAAAAAhAAAAAAAAAFEA=\",\"dtype\":\"float64\",\"shape\":[10]},\"prediction_length\":{\"__ndarray__\":\"AAAAAAAAJkAAAAAAAAAcQAAAAAAAABxAAAAAAAAAIkAAAAAAAAAUQAAAAAAAACpAAAAAAAAAMUAAAAAAAAAwQAAAAAAAAC5AAAAAAAAAJEA=\",\"dtype\":\"float64\",\"shape\":[10]}},\"selected\":{\"id\":\"2983\",\"type\":\"Selection\"},\"selection_policy\":{\"id\":\"2982\",\"type\":\"UnionRenderers\"}},\"id\":\"2837\",\"type\":\"ColumnDataSource\"},{\"attributes\":{},\"id\":\"2823\",\"type\":\"WheelZoomTool\"},{\"attributes\":{},\"id\":\"2680\",\"type\":\"BasicTicker\"},{\"attributes\":{\"source\":{\"id\":\"2749\",\"type\":\"ColumnDataSource\"}},\"id\":\"2754\",\"type\":\"CDSView\"},{\"attributes\":{\"plot\":{\"id\":\"2669\",\"subtype\":\"Figure\",\"type\":\"Plot\"},\"ticker\":{\"id\":\"2680\",\"type\":\"BasicTicker\"}},\"id\":\"2683\",\"type\":\"Grid\"},{\"attributes\":{\"data_source\":{\"id\":\"2749\",\"type\":\"ColumnDataSource\"},\"glyph\":{\"id\":\"2751\",\"type\":\"Circle\"},\"hover_glyph\":null,\"muted_glyph\":null,\"nonselection_glyph\":{\"id\":\"2752\",\"type\":\"Circle\"},\"selection_glyph\":null,\"view\":{\"id\":\"2754\",\"type\":\"CDSView\"}},\"id\":\"2753\",\"type\":\"GlyphRenderer\"},{\"attributes\":{},\"id\":\"2817\",\"type\":\"BasicTicker\"},{\"attributes\":{},\"id\":\"2821\",\"type\":\"PanTool\"},{\"attributes\":{\"axis_label\":\"loss\",\"formatter\":{\"id\":\"2975\",\"type\":\"BasicTickFormatter\"},\"plot\":{\"id\":\"2801\",\"subtype\":\"Figure\",\"type\":\"Plot\"},\"ticker\":{\"id\":\"2817\",\"type\":\"BasicTicker\"}},\"id\":\"2816\",\"type\":\"LinearAxis\"},{\"attributes\":{},\"id\":\"2778\",\"type\":\"CrosshairTool\"},{\"attributes\":{},\"id\":\"2812\",\"type\":\"BasicTicker\"},{\"attributes\":{\"source\":{\"id\":\"2793\",\"type\":\"ColumnDataSource\"}},\"id\":\"2798\",\"type\":\"CDSView\"},{\"attributes\":{\"dimension\":1,\"plot\":{\"id\":\"2801\",\"subtype\":\"Figure\",\"type\":\"Plot\"},\"ticker\":{\"id\":\"2817\",\"type\":\"BasicTicker\"}},\"id\":\"2820\",\"type\":\"Grid\"},{\"attributes\":{\"below\":[{\"id\":\"2811\",\"type\":\"LinearAxis\"}],\"left\":[{\"id\":\"2816\",\"type\":\"LinearAxis\"}],\"plot_height\":500,\"plot_width\":500,\"renderers\":[{\"id\":\"2811\",\"type\":\"LinearAxis\"},{\"id\":\"2815\",\"type\":\"Grid\"},{\"id\":\"2816\",\"type\":\"LinearAxis\"},{\"id\":\"2820\",\"type\":\"Grid\"},{\"id\":\"2841\",\"type\":\"GlyphRenderer\"}],\"title\":{\"id\":\"2800\",\"type\":\"Title\"},\"toolbar\":{\"id\":\"2828\",\"type\":\"Toolbar\"},\"x_range\":{\"id\":\"2803\",\"type\":\"DataRange1d\"},\"x_scale\":{\"id\":\"2807\",\"type\":\"LinearScale\"},\"y_range\":{\"id\":\"2805\",\"type\":\"DataRange1d\"},\"y_scale\":{\"id\":\"2809\",\"type\":\"LinearScale\"}},\"id\":\"2801\",\"subtype\":\"Figure\",\"type\":\"Plot\"},{\"attributes\":{},\"id\":\"2822\",\"type\":\"CrosshairTool\"},{\"attributes\":{},\"id\":\"2675\",\"type\":\"LinearScale\"},{\"attributes\":{},\"id\":\"2777\",\"type\":\"PanTool\"},{\"attributes\":{},\"id\":\"2961\",\"type\":\"BasicTickFormatter\"},{\"attributes\":{\"callback\":null,\"data\":{\"FinalObjectiveValue\":{\"__ndarray__\":\"AAAAgLp3XUAAAABAAvVeQAAAAKCsgGFAAAAAgDVCYkAAAAAg9X1kQAAAACCfwW9AAAAA4HkecUAAAACAI+hyQAAAAOAVC3NAAAAAYOUoc0A=\",\"dtype\":\"float64\",\"shape\":[10]},\"TrainingElapsedTimeSeconds\":{\"__ndarray__\":\"AAAAAABAXkAAAAAAAIBbQAAAAAAA4GFAAAAAAAAAUkAAAAAAAMBSQAAAAAAAYGlAAAAAAABAXEAAAAAAAGBlQAAAAAAA4G1AAAAAAABgZ0A=\",\"dtype\":\"float64\",\"shape\":[10]},\"TrainingEndTime\":{\"__ndarray__\":\"AACIqK/qdkIAgILdr+p2QgCArqyv6nZCAIDJ5q/qdkIAgGrhr+p2QgCAS/uv6nZCAACUpq/qdkIAgIqyr+p2QgCAP/2v6nZCAIDjuK/qdkI=\",\"dtype\":\"float64\",\"shape\":[10]},\"TrainingJobName\":[\"sagemaker-mxnet-191127-0345-005-6d77643d\",\"sagemaker-mxnet-191127-0345-007-14adcf9b\",\"sagemaker-mxnet-191127-0345-001-938b14a2\",\"sagemaker-mxnet-191127-0345-010-e9e04cd1\",\"sagemaker-mxnet-191127-0345-009-049adfb0\",\"sagemaker-mxnet-191127-0345-008-47c9bc32\",\"sagemaker-mxnet-191127-0345-004-57acaf07\",\"sagemaker-mxnet-191127-0345-003-6131b763\",\"sagemaker-mxnet-191127-0345-006-47297f38\",\"sagemaker-mxnet-191127-0345-002-6e26a47f\"],\"TrainingJobStatus\":[\"Completed\",\"Completed\",\"Completed\",\"Completed\",\"Completed\",\"Completed\",\"Completed\",\"Completed\",\"Completed\",\"Completed\"],\"TrainingStartTime\":{\"__ndarray__\":\"AID9iq/qdkIAgKfCr+p2QgAAxYmv6nZCAIA11a/qdkIAABvPr+p2QgAAvMmv6nZCAID9iq/qdkIAAMuIr+p2QgAA5sKv6nZCAAA8i6/qdkI=\",\"dtype\":\"float64\",\"shape\":[10]},\"dropout_rate\":{\"__ndarray__\":\"JI2bkkrl3j8hKJDA24jeP1AOXc7UUbI/Qot4roll3j9Ci3iuiX3XP+b7tbjg19w/fNpXyTt7yD/6uYT5xSzZP+b7tbjgpd8/5GlMeRPNwz8=\",\"dtype\":\"float64\",\"shape\":[10]},\"epochs\":{\"__ndarray__\":\"AAAAAAAAKkAAAAAAAAAwQAAAAAAAADJAAAAAAAAAFEAAAAAAAAAYQAAAAAAAADJAAAAAAAAAJkAAAAAAAAAxQAAAAAAAAC5AAAAAAAAAMEA=\",\"dtype\":\"float64\",\"shape\":[10]},\"index\":[5,3,9,0,1,2,6,7,4,8],\"num_layers\":{\"__ndarray__\":\"AAAAAAAAAEAAAAAAAADwPwAAAAAAAABAAAAAAAAA8D8AAAAAAAAAQAAAAAAAABRAAAAAAAAAAEAAAAAAAAAIQAAAAAAAAAhAAAAAAAAAFEA=\",\"dtype\":\"float64\",\"shape\":[10]},\"prediction_length\":{\"__ndarray__\":\"AAAAAAAAJkAAAAAAAAAcQAAAAAAAABxAAAAAAAAAIkAAAAAAAAAUQAAAAAAAACpAAAAAAAAAMUAAAAAAAAAwQAAAAAAAAC5AAAAAAAAAJEA=\",\"dtype\":\"float64\",\"shape\":[10]}},\"selected\":{\"id\":\"2981\",\"type\":\"Selection\"},\"selection_policy\":{\"id\":\"2980\",\"type\":\"UnionRenderers\"}},\"id\":\"2793\",\"type\":\"ColumnDataSource\"},{\"attributes\":{\"fill_alpha\":{\"value\":0.1},\"fill_color\":{\"value\":\"#1f77b4\"},\"line_alpha\":{\"value\":0.1},\"line_color\":{\"value\":\"#1f77b4\"},\"x\":{\"field\":\"num_layers\"},\"y\":{\"field\":\"FinalObjectiveValue\"}},\"id\":\"2796\",\"type\":\"Circle\"},{\"attributes\":{},\"id\":\"2677\",\"type\":\"LinearScale\"},{\"attributes\":{\"callback\":null},\"id\":\"2805\",\"type\":\"DataRange1d\"},{\"attributes\":{},\"id\":\"2824\",\"type\":\"ZoomInTool\"},{\"attributes\":{\"axis_label\":\"dropout_rate\",\"formatter\":{\"id\":\"2973\",\"type\":\"BasicTickFormatter\"},\"plot\":{\"id\":\"2801\",\"subtype\":\"Figure\",\"type\":\"Plot\"},\"ticker\":{\"id\":\"2812\",\"type\":\"BasicTicker\"}},\"id\":\"2811\",\"type\":\"LinearAxis\"},{\"attributes\":{\"dimension\":1,\"plot\":{\"id\":\"2757\",\"subtype\":\"Figure\",\"type\":\"Plot\"},\"ticker\":{\"id\":\"2773\",\"type\":\"BasicTicker\"}},\"id\":\"2776\",\"type\":\"Grid\"},{\"attributes\":{\"plot\":null,\"text\":\"Objective vs dropout_rate\"},\"id\":\"2800\",\"type\":\"Title\"},{\"attributes\":{},\"id\":\"2969\",\"type\":\"BasicTickFormatter\"},{\"attributes\":{},\"id\":\"2979\",\"type\":\"Selection\"},{\"attributes\":{},\"id\":\"2685\",\"type\":\"BasicTicker\"},{\"attributes\":{},\"id\":\"2773\",\"type\":\"BasicTicker\"},{\"attributes\":{},\"id\":\"2973\",\"type\":\"BasicTickFormatter\"},{\"attributes\":{},\"id\":\"2826\",\"type\":\"UndoTool\"},{\"attributes\":{\"dimension\":1,\"plot\":{\"id\":\"2669\",\"subtype\":\"Figure\",\"type\":\"Plot\"},\"ticker\":{\"id\":\"2685\",\"type\":\"BasicTicker\"}},\"id\":\"2688\",\"type\":\"Grid\"},{\"attributes\":{\"axis_label\":\"num_layers\",\"formatter\":{\"id\":\"2969\",\"type\":\"BasicTickFormatter\"},\"plot\":{\"id\":\"2757\",\"subtype\":\"Figure\",\"type\":\"Plot\"},\"ticker\":{\"id\":\"2768\",\"type\":\"BasicTicker\"}},\"id\":\"2767\",\"type\":\"LinearAxis\"},{\"attributes\":{},\"id\":\"2980\",\"type\":\"UnionRenderers\"},{\"attributes\":{\"data_source\":{\"id\":\"2705\",\"type\":\"ColumnDataSource\"},\"glyph\":{\"id\":\"2707\",\"type\":\"Circle\"},\"hover_glyph\":null,\"muted_glyph\":null,\"nonselection_glyph\":{\"id\":\"2708\",\"type\":\"Circle\"},\"selection_glyph\":null,\"view\":{\"id\":\"2710\",\"type\":\"CDSView\"}},\"id\":\"2709\",\"type\":\"GlyphRenderer\"},{\"attributes\":{},\"id\":\"2765\",\"type\":\"LinearScale\"},{\"attributes\":{},\"id\":\"2975\",\"type\":\"BasicTickFormatter\"},{\"attributes\":{},\"id\":\"2971\",\"type\":\"BasicTickFormatter\"},{\"attributes\":{},\"id\":\"2981\",\"type\":\"Selection\"},{\"attributes\":{},\"id\":\"2763\",\"type\":\"LinearScale\"},{\"attributes\":{\"callback\":null},\"id\":\"2803\",\"type\":\"DataRange1d\"},{\"attributes\":{\"fill_alpha\":{\"value\":0.1},\"fill_color\":{\"value\":\"#1f77b4\"},\"line_alpha\":{\"value\":0.1},\"line_color\":{\"value\":\"#1f77b4\"},\"x\":{\"field\":\"epochs\"},\"y\":{\"field\":\"FinalObjectiveValue\"}},\"id\":\"2708\",\"type\":\"Circle\"},{\"attributes\":{\"active_drag\":\"auto\",\"active_inspect\":\"auto\",\"active_multi\":null,\"active_scroll\":\"auto\",\"active_tap\":\"auto\",\"tools\":[{\"id\":\"2799\",\"type\":\"HoverTool\"},{\"id\":\"2821\",\"type\":\"PanTool\"},{\"id\":\"2822\",\"type\":\"CrosshairTool\"},{\"id\":\"2823\",\"type\":\"WheelZoomTool\"},{\"id\":\"2824\",\"type\":\"ZoomInTool\"},{\"id\":\"2825\",\"type\":\"ZoomOutTool\"},{\"id\":\"2826\",\"type\":\"UndoTool\"},{\"id\":\"2827\",\"type\":\"ResetTool\"}]},\"id\":\"2828\",\"type\":\"Toolbar\"},{\"attributes\":{},\"id\":\"2982\",\"type\":\"UnionRenderers\"},{\"attributes\":{},\"id\":\"2983\",\"type\":\"Selection\"},{\"attributes\":{\"callback\":null},\"id\":\"2761\",\"type\":\"DataRange1d\"},{\"attributes\":{\"callback\":null},\"id\":\"2759\",\"type\":\"DataRange1d\"}],\"root_ids\":[\"2843\"]},\"title\":\"Bokeh Application\",\"version\":\"1.0.4\"}};\n",
       "  var render_items = [{\"docid\":\"c34c8350-777e-4443-a1c3-fc5e0938c464\",\"roots\":{\"2843\":\"2c65626d-648a-4b4f-8b9b-7f57d3da88cd\"}}];\n",
       "  root.Bokeh.embed.embed_items_notebook(docs_json, render_items);\n",
       "\n",
       "  }\n",
       "  if (root.Bokeh !== undefined) {\n",
       "    embed_document(root);\n",
       "  } else {\n",
       "    var attempts = 0;\n",
       "    var timer = setInterval(function(root) {\n",
       "      if (root.Bokeh !== undefined) {\n",
       "        embed_document(root);\n",
       "        clearInterval(timer);\n",
       "      }\n",
       "      attempts++;\n",
       "      if (attempts > 100) {\n",
       "        console.log(\"Bokeh: ERROR: Unable to run BokehJS code because BokehJS library is missing\");\n",
       "        clearInterval(timer);\n",
       "      }\n",
       "    }, 10, root)\n",
       "  }\n",
       "})(window);"
      ],
      "application/vnd.bokehjs_exec.v0+json": ""
     },
     "metadata": {
      "application/vnd.bokehjs_exec.v0+json": {
       "id": "2843"
      }
     },
     "output_type": "display_data"
    }
   ],
   "source": [
    "import bokeh\n",
    "import bokeh.io\n",
    "bokeh.io.output_notebook()\n",
    "from bokeh.plotting import figure, show\n",
    "from bokeh.models import HoverTool\n",
    "\n",
    "ranges = job_analytics.tuning_ranges\n",
    "figures = []\n",
    "\n",
    "class HoverHelper():\n",
    "\n",
    "    def __init__(self, tuning_analytics):\n",
    "        self.tuner = tuning_analytics\n",
    "\n",
    "    def hovertool(self):\n",
    "        tooltips = [\n",
    "            (\"FinalObjectiveValue\", \"@FinalObjectiveValue\"),\n",
    "            (\"TrainingJobName\", \"@TrainingJobName\"),\n",
    "        ]\n",
    "        for k in self.tuner.tuning_ranges.keys():\n",
    "            tooltips.append( (k, \"@{%s}\" % k) )\n",
    "\n",
    "        ht = HoverTool(tooltips=tooltips)\n",
    "        return ht\n",
    "\n",
    "    def tools(self, standard_tools='pan,crosshair,wheel_zoom,zoom_in,zoom_out,undo,reset'):\n",
    "        return [self.hovertool(), standard_tools]\n",
    "\n",
    "hover = HoverHelper(job_analytics)\n",
    "\n",
    "for hp_name, hp_range in ranges.items():\n",
    "    categorical_args = {}\n",
    "    if hp_range.get('Values'):\n",
    "        # This is marked as categorical.  Check if all options are actually numbers.\n",
    "        def is_num(x):\n",
    "            try:\n",
    "                float(x)\n",
    "                return 1\n",
    "            except:\n",
    "                return 0           \n",
    "        vals = hp_range['Values']\n",
    "        if sum([is_num(x) for x in vals]) == len(vals):\n",
    "            # Bokeh has issues plotting a \"categorical\" range that's actually numeric, so plot as numeric\n",
    "            print(\"Hyperparameter %s is tuned as categorical, but all values are numeric\" % hp_name)\n",
    "        else:\n",
    "            # Set up extra options for plotting categoricals.  A bit tricky when they're actually numbers.\n",
    "            categorical_args['x_range'] = vals\n",
    "\n",
    "    # Now plot it\n",
    "    p = figure(plot_width=500, plot_height=500, \n",
    "               title=\"Objective vs %s\" % hp_name,\n",
    "               tools=hover.tools(),\n",
    "               x_axis_label=hp_name, y_axis_label=objective_name,\n",
    "               **categorical_args)\n",
    "    p.circle(source=df, x=hp_name, y='FinalObjectiveValue')\n",
    "    figures.append(p)\n",
    "show(bokeh.layouts.Column(*figures))"
   ]
  },
  {
   "cell_type": "markdown",
   "metadata": {},
   "source": [
    "Running hyperparamter tuning jobs may take a while so in the meantime freel free to check out [this notebook](deepar_datails.ipynb) that gives more in depth details about DeepAR."
   ]
  },
  {
   "cell_type": "markdown",
   "metadata": {},
   "source": [
    "### Deployment\n",
    "\n",
    "Now that we have found a model with good hyperparameters we can deploy it."
   ]
  },
  {
   "cell_type": "code",
   "execution_count": null,
   "metadata": {},
   "outputs": [],
   "source": [
    "tuned_endpoint = tuner.deploy(instance_type=\"ml.m5.xlarge\", initial_instance_count=1)"
   ]
  },
  {
   "cell_type": "markdown",
   "metadata": {},
   "source": [
    "Let's compare how much better our predictions are:"
   ]
  },
  {
   "cell_type": "code",
   "execution_count": null,
   "metadata": {},
   "outputs": [],
   "source": [
    "input_data = {'value': test.value.tolist(), 'timestamp': test.index.tolist() }\n",
    "result = tuned_endpoint.predict(input_data)\n",
    "result"
   ]
  },
  {
   "cell_type": "markdown",
   "metadata": {},
   "source": [
    "In this notebook you have learnt how to build and train a DeepAR model with GluonTS, how to tune and deploy it with Amazon SageMaker."
   ]
  },
  {
   "cell_type": "markdown",
   "metadata": {},
   "source": [
    "# Challenge\n",
    "Now it is your turn to find even better hyperparameters for the model. Go to  [documentation](https://gluon-ts.mxnet.io/api/gluonts/gluonts.model.deepar.html) and try out other hyperparameters."
   ]
  },
  {
   "cell_type": "markdown",
   "metadata": {},
   "source": [
    "# Additional: How to build a custom container "
   ]
  },
  {
   "cell_type": "code",
   "execution_count": null,
   "metadata": {},
   "outputs": [],
   "source": []
  },
  {
   "cell_type": "markdown",
   "metadata": {},
   "source": [
    "# Additional: how to deal with sparse timeseries\n",
    "\n",
    "We may sometimes have sparse timeseries, which can be a problem for forecasting models. In order to improve predictions accurcay, we can resample the timeseries to have less granularity. For instance instead of predicting 5 minutes we only predict on an hourly basis."
   ]
  },
  {
   "cell_type": "code",
   "execution_count": 93,
   "metadata": {},
   "outputs": [],
   "source": [
    "dateparse = lambda x: pd.datetime.strptime(x, '%Y-%m-%d %H:%M:%S')\n",
    "data_file = pd.read_csv(url, date_parser=dateparse, index_col='timestamp')"
   ]
  },
  {
   "cell_type": "markdown",
   "metadata": {},
   "source": [
    "Let's resample the timeseries to an hourly series."
   ]
  },
  {
   "cell_type": "code",
   "execution_count": 94,
   "metadata": {},
   "outputs": [],
   "source": [
    "data_file = data_file.reset_index().groupby(pd.Grouper(freq='1H', key='timestamp')).sum()"
   ]
  },
  {
   "cell_type": "markdown",
   "metadata": {},
   "source": [
    "We need to prepare a new training dataset:"
   ]
  },
  {
   "cell_type": "code",
   "execution_count": 95,
   "metadata": {},
   "outputs": [],
   "source": [
    "dataset = ListDataset([{\"start\":data_file.index[0], \n",
    "                       \"target\": data_file.value[:\"2015-04-05 00:00:00\"]}], \n",
    "                      freq=\"1H\")"
   ]
  },
  {
   "cell_type": "markdown",
   "metadata": {},
   "source": [
    "Create the trainer and model:"
   ]
  },
  {
   "cell_type": "code",
   "execution_count": 96,
   "metadata": {},
   "outputs": [
    {
     "name": "stderr",
     "output_type": "stream",
     "text": [
      "INFO:root:Using CPU\n"
     ]
    }
   ],
   "source": [
    "trainer = Trainer(epochs=EPOCHS)\n",
    "estimator = DeepAREstimator(freq=\"1H\", prediction_length=6, trainer=trainer)"
   ]
  },
  {
   "cell_type": "markdown",
   "metadata": {},
   "source": [
    "Train the model"
   ]
  },
  {
   "cell_type": "code",
   "execution_count": null,
   "metadata": {},
   "outputs": [],
   "source": [
    "predictor = estimator.train(training_data=dataset)"
   ]
  },
  {
   "cell_type": "markdown",
   "metadata": {},
   "source": [
    "Create the test dataset"
   ]
  },
  {
   "cell_type": "code",
   "execution_count": 98,
   "metadata": {},
   "outputs": [],
   "source": [
    "test_data = ListDataset([{\"start\":data_file.index[0], \n",
    "                          \"target\":data_file.value[:\"2015-04-15 10:00:00\"]}], \n",
    "                           freq=\"1H\")\n"
   ]
  },
  {
   "cell_type": "markdown",
   "metadata": {},
   "source": [
    "Plot some forecasts"
   ]
  },
  {
   "cell_type": "code",
   "execution_count": 99,
   "metadata": {},
   "outputs": [
    {
     "data": {
      "image/png": "[encoded data removed]",
      "text/plain": [
       "<Figure size 432x288 with 1 Axes>"
      ]
     },
     "metadata": {},
     "output_type": "display_data"
    }
   ],
   "source": [
    "plot_forecast(predictor=predictor, test_data=test_data)"
   ]
  },
  {
   "cell_type": "code",
   "execution_count": null,
   "metadata": {},
   "outputs": [],
   "source": []
  }
 ],
 "metadata": {
  "kernelspec": {
   "display_name": "conda_mxnet_p36",
   "language": "python",
   "name": "conda_mxnet_p36"
  },
  "language_info": {
   "codemirror_mode": {
    "name": "ipython",
    "version": 3
   },
   "file_extension": ".py",
   "mimetype": "text/x-python",
   "name": "python",
   "nbconvert_exporter": "python",
   "pygments_lexer": "ipython3",
   "version": "3.6.5"
  }
 },
 "nbformat": 4,
 "nbformat_minor": 4
}
